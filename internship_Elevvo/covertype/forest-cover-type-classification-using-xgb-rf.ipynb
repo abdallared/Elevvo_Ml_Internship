{
 "cells": [
  {
   "cell_type": "markdown",
   "id": "50acfc91",
   "metadata": {
    "_cell_guid": "b1076dfc-b9ad-4769-8c92-a6c4dae69d19",
    "_uuid": "8f2839f25d086af736a60e9eeb907d3b93b6e0e5",
    "papermill": {
     "duration": 0.011484,
     "end_time": "2025-07-18T23:25:59.741282",
     "exception": false,
     "start_time": "2025-07-18T23:25:59.729798",
     "status": "completed"
    },
    "tags": []
   },
   "source": [
    "# 🌲 Forest Cover Type Classification\n",
    "\n",
    "## 📌 Task Overview\n",
    "In this project, we predict the **type of forest cover** using cartographic and environmental features.  \n",
    "The dataset used is **Covertype (UCI)**, which is a multi-class classification problem.  \n",
    "\n",
    "## 🎯 Objectives\n",
    "- Preprocess and clean the dataset\n",
    "- Train and evaluate tree-based classification models (Random Forest, XGBoost)\n",
    "- Visualize confusion matrix and feature importance\n",
    "- Bonus: Perform hyperparameter tuning and model comparison\n"
   ]
  },
  {
   "cell_type": "markdown",
   "id": "0540bb94",
   "metadata": {
    "papermill": {
     "duration": 0.008482,
     "end_time": "2025-07-18T23:25:59.760774",
     "exception": false,
     "start_time": "2025-07-18T23:25:59.752292",
     "status": "completed"
    },
    "tags": []
   },
   "source": [
    "## Required Imports"
   ]
  },
  {
   "cell_type": "code",
   "execution_count": 1,
   "id": "72b2af05",
   "metadata": {
    "execution": {
     "iopub.execute_input": "2025-07-18T23:25:59.779582Z",
     "iopub.status.busy": "2025-07-18T23:25:59.779178Z",
     "iopub.status.idle": "2025-07-18T23:26:06.614686Z",
     "shell.execute_reply": "2025-07-18T23:26:06.613634Z"
    },
    "papermill": {
     "duration": 6.847264,
     "end_time": "2025-07-18T23:26:06.616662",
     "exception": false,
     "start_time": "2025-07-18T23:25:59.769398",
     "status": "completed"
    },
    "tags": []
   },
   "outputs": [],
   "source": [
    "import pandas as pd\n",
    "import numpy as np\n",
    "import matplotlib.pyplot as plt  \n",
    "import seaborn as sns\n",
    "from sklearn.model_selection import train_test_split, GridSearchCV\n",
    "from sklearn.ensemble import RandomForestClassifier\n",
    "from xgboost import XGBClassifier\n",
    "from sklearn import metrics\n",
    "from sklearn.metrics import classification_report, confusion_matrix, ConfusionMatrixDisplay\n",
    "from sklearn.utils.class_weight import compute_class_weight"
   ]
  },
  {
   "cell_type": "code",
   "execution_count": 2,
   "id": "f0e433fe",
   "metadata": {
    "execution": {
     "iopub.execute_input": "2025-07-18T23:26:06.636171Z",
     "iopub.status.busy": "2025-07-18T23:26:06.635163Z",
     "iopub.status.idle": "2025-07-18T23:26:06.640731Z",
     "shell.execute_reply": "2025-07-18T23:26:06.639790Z"
    },
    "papermill": {
     "duration": 0.016258,
     "end_time": "2025-07-18T23:26:06.642258",
     "exception": false,
     "start_time": "2025-07-18T23:26:06.626000",
     "status": "completed"
    },
    "tags": []
   },
   "outputs": [],
   "source": [
    "import warnings\n",
    "warnings.filterwarnings(\"ignore\")"
   ]
  },
  {
   "cell_type": "markdown",
   "id": "554b9aef",
   "metadata": {
    "papermill": {
     "duration": 0.00757,
     "end_time": "2025-07-18T23:26:06.657860",
     "exception": false,
     "start_time": "2025-07-18T23:26:06.650290",
     "status": "completed"
    },
    "tags": []
   },
   "source": [
    "## Load DataSet"
   ]
  },
  {
   "cell_type": "code",
   "execution_count": 3,
   "id": "89141e41",
   "metadata": {
    "execution": {
     "iopub.execute_input": "2025-07-18T23:26:06.675075Z",
     "iopub.status.busy": "2025-07-18T23:26:06.674681Z",
     "iopub.status.idle": "2025-07-18T23:26:10.188010Z",
     "shell.execute_reply": "2025-07-18T23:26:10.186981Z"
    },
    "papermill": {
     "duration": 3.524006,
     "end_time": "2025-07-18T23:26:10.189653",
     "exception": false,
     "start_time": "2025-07-18T23:26:06.665647",
     "status": "completed"
    },
    "tags": []
   },
   "outputs": [
    {
     "data": {
      "text/html": [
       "<div>\n",
       "<style scoped>\n",
       "    .dataframe tbody tr th:only-of-type {\n",
       "        vertical-align: middle;\n",
       "    }\n",
       "\n",
       "    .dataframe tbody tr th {\n",
       "        vertical-align: top;\n",
       "    }\n",
       "\n",
       "    .dataframe thead th {\n",
       "        text-align: right;\n",
       "    }\n",
       "</style>\n",
       "<table border=\"1\" class=\"dataframe\">\n",
       "  <thead>\n",
       "    <tr style=\"text-align: right;\">\n",
       "      <th></th>\n",
       "      <th>Unnamed: 0</th>\n",
       "      <th>Unnamed: 1</th>\n",
       "      <th>Unnamed: 2</th>\n",
       "      <th>Elevation</th>\n",
       "      <th>Aspect</th>\n",
       "      <th>Slope</th>\n",
       "      <th>Horizontal_Distance_To_Hydrology</th>\n",
       "      <th>Vertical_Distance_To_Hydrology</th>\n",
       "      <th>Horizontal_Distance_To_Roadways</th>\n",
       "      <th>Hillshade_9am</th>\n",
       "      <th>...</th>\n",
       "      <th>Soil_Type32</th>\n",
       "      <th>Soil_Type33</th>\n",
       "      <th>Soil_Type34</th>\n",
       "      <th>Soil_Type35</th>\n",
       "      <th>Soil_Type36</th>\n",
       "      <th>Soil_Type37</th>\n",
       "      <th>Soil_Type38</th>\n",
       "      <th>Soil_Type39</th>\n",
       "      <th>Soil_Type40</th>\n",
       "      <th>Cover_Type</th>\n",
       "    </tr>\n",
       "  </thead>\n",
       "  <tbody>\n",
       "    <tr>\n",
       "      <th>0</th>\n",
       "      <td>2596</td>\n",
       "      <td>51</td>\n",
       "      <td>3</td>\n",
       "      <td>258</td>\n",
       "      <td>0</td>\n",
       "      <td>510</td>\n",
       "      <td>221</td>\n",
       "      <td>232</td>\n",
       "      <td>148</td>\n",
       "      <td>6279</td>\n",
       "      <td>...</td>\n",
       "      <td>0</td>\n",
       "      <td>0</td>\n",
       "      <td>0</td>\n",
       "      <td>0</td>\n",
       "      <td>0</td>\n",
       "      <td>0</td>\n",
       "      <td>0</td>\n",
       "      <td>0</td>\n",
       "      <td>0</td>\n",
       "      <td>5</td>\n",
       "    </tr>\n",
       "    <tr>\n",
       "      <th>1</th>\n",
       "      <td>2590</td>\n",
       "      <td>56</td>\n",
       "      <td>2</td>\n",
       "      <td>212</td>\n",
       "      <td>-6</td>\n",
       "      <td>390</td>\n",
       "      <td>220</td>\n",
       "      <td>235</td>\n",
       "      <td>151</td>\n",
       "      <td>6225</td>\n",
       "      <td>...</td>\n",
       "      <td>0</td>\n",
       "      <td>0</td>\n",
       "      <td>0</td>\n",
       "      <td>0</td>\n",
       "      <td>0</td>\n",
       "      <td>0</td>\n",
       "      <td>0</td>\n",
       "      <td>0</td>\n",
       "      <td>0</td>\n",
       "      <td>5</td>\n",
       "    </tr>\n",
       "    <tr>\n",
       "      <th>2</th>\n",
       "      <td>2804</td>\n",
       "      <td>139</td>\n",
       "      <td>9</td>\n",
       "      <td>268</td>\n",
       "      <td>65</td>\n",
       "      <td>3180</td>\n",
       "      <td>234</td>\n",
       "      <td>238</td>\n",
       "      <td>135</td>\n",
       "      <td>6121</td>\n",
       "      <td>...</td>\n",
       "      <td>0</td>\n",
       "      <td>0</td>\n",
       "      <td>0</td>\n",
       "      <td>0</td>\n",
       "      <td>0</td>\n",
       "      <td>0</td>\n",
       "      <td>0</td>\n",
       "      <td>0</td>\n",
       "      <td>0</td>\n",
       "      <td>2</td>\n",
       "    </tr>\n",
       "    <tr>\n",
       "      <th>3</th>\n",
       "      <td>2785</td>\n",
       "      <td>155</td>\n",
       "      <td>18</td>\n",
       "      <td>242</td>\n",
       "      <td>118</td>\n",
       "      <td>3090</td>\n",
       "      <td>238</td>\n",
       "      <td>238</td>\n",
       "      <td>122</td>\n",
       "      <td>6211</td>\n",
       "      <td>...</td>\n",
       "      <td>0</td>\n",
       "      <td>0</td>\n",
       "      <td>0</td>\n",
       "      <td>0</td>\n",
       "      <td>0</td>\n",
       "      <td>0</td>\n",
       "      <td>0</td>\n",
       "      <td>0</td>\n",
       "      <td>0</td>\n",
       "      <td>2</td>\n",
       "    </tr>\n",
       "    <tr>\n",
       "      <th>4</th>\n",
       "      <td>2595</td>\n",
       "      <td>45</td>\n",
       "      <td>2</td>\n",
       "      <td>153</td>\n",
       "      <td>-1</td>\n",
       "      <td>391</td>\n",
       "      <td>220</td>\n",
       "      <td>234</td>\n",
       "      <td>150</td>\n",
       "      <td>6172</td>\n",
       "      <td>...</td>\n",
       "      <td>0</td>\n",
       "      <td>0</td>\n",
       "      <td>0</td>\n",
       "      <td>0</td>\n",
       "      <td>0</td>\n",
       "      <td>0</td>\n",
       "      <td>0</td>\n",
       "      <td>0</td>\n",
       "      <td>0</td>\n",
       "      <td>5</td>\n",
       "    </tr>\n",
       "    <tr>\n",
       "      <th>5</th>\n",
       "      <td>2579</td>\n",
       "      <td>132</td>\n",
       "      <td>6</td>\n",
       "      <td>300</td>\n",
       "      <td>-15</td>\n",
       "      <td>67</td>\n",
       "      <td>230</td>\n",
       "      <td>237</td>\n",
       "      <td>140</td>\n",
       "      <td>6031</td>\n",
       "      <td>...</td>\n",
       "      <td>0</td>\n",
       "      <td>0</td>\n",
       "      <td>0</td>\n",
       "      <td>0</td>\n",
       "      <td>0</td>\n",
       "      <td>0</td>\n",
       "      <td>0</td>\n",
       "      <td>0</td>\n",
       "      <td>0</td>\n",
       "      <td>2</td>\n",
       "    </tr>\n",
       "    <tr>\n",
       "      <th>6</th>\n",
       "      <td>2606</td>\n",
       "      <td>45</td>\n",
       "      <td>7</td>\n",
       "      <td>270</td>\n",
       "      <td>5</td>\n",
       "      <td>633</td>\n",
       "      <td>222</td>\n",
       "      <td>225</td>\n",
       "      <td>138</td>\n",
       "      <td>6256</td>\n",
       "      <td>...</td>\n",
       "      <td>0</td>\n",
       "      <td>0</td>\n",
       "      <td>0</td>\n",
       "      <td>0</td>\n",
       "      <td>0</td>\n",
       "      <td>0</td>\n",
       "      <td>0</td>\n",
       "      <td>0</td>\n",
       "      <td>0</td>\n",
       "      <td>5</td>\n",
       "    </tr>\n",
       "    <tr>\n",
       "      <th>7</th>\n",
       "      <td>2605</td>\n",
       "      <td>49</td>\n",
       "      <td>4</td>\n",
       "      <td>234</td>\n",
       "      <td>7</td>\n",
       "      <td>573</td>\n",
       "      <td>222</td>\n",
       "      <td>230</td>\n",
       "      <td>144</td>\n",
       "      <td>6228</td>\n",
       "      <td>...</td>\n",
       "      <td>0</td>\n",
       "      <td>0</td>\n",
       "      <td>0</td>\n",
       "      <td>0</td>\n",
       "      <td>0</td>\n",
       "      <td>0</td>\n",
       "      <td>0</td>\n",
       "      <td>0</td>\n",
       "      <td>0</td>\n",
       "      <td>5</td>\n",
       "    </tr>\n",
       "    <tr>\n",
       "      <th>8</th>\n",
       "      <td>2617</td>\n",
       "      <td>45</td>\n",
       "      <td>9</td>\n",
       "      <td>240</td>\n",
       "      <td>56</td>\n",
       "      <td>666</td>\n",
       "      <td>223</td>\n",
       "      <td>221</td>\n",
       "      <td>133</td>\n",
       "      <td>6244</td>\n",
       "      <td>...</td>\n",
       "      <td>0</td>\n",
       "      <td>0</td>\n",
       "      <td>0</td>\n",
       "      <td>0</td>\n",
       "      <td>0</td>\n",
       "      <td>0</td>\n",
       "      <td>0</td>\n",
       "      <td>0</td>\n",
       "      <td>0</td>\n",
       "      <td>5</td>\n",
       "    </tr>\n",
       "    <tr>\n",
       "      <th>9</th>\n",
       "      <td>2612</td>\n",
       "      <td>59</td>\n",
       "      <td>10</td>\n",
       "      <td>247</td>\n",
       "      <td>11</td>\n",
       "      <td>636</td>\n",
       "      <td>228</td>\n",
       "      <td>219</td>\n",
       "      <td>124</td>\n",
       "      <td>6230</td>\n",
       "      <td>...</td>\n",
       "      <td>0</td>\n",
       "      <td>0</td>\n",
       "      <td>0</td>\n",
       "      <td>0</td>\n",
       "      <td>0</td>\n",
       "      <td>0</td>\n",
       "      <td>0</td>\n",
       "      <td>0</td>\n",
       "      <td>0</td>\n",
       "      <td>5</td>\n",
       "    </tr>\n",
       "  </tbody>\n",
       "</table>\n",
       "<p>10 rows × 55 columns</p>\n",
       "</div>"
      ],
      "text/plain": [
       "   Unnamed: 0  Unnamed: 1  Unnamed: 2  Elevation  Aspect  Slope  \\\n",
       "0        2596          51           3        258       0    510   \n",
       "1        2590          56           2        212      -6    390   \n",
       "2        2804         139           9        268      65   3180   \n",
       "3        2785         155          18        242     118   3090   \n",
       "4        2595          45           2        153      -1    391   \n",
       "5        2579         132           6        300     -15     67   \n",
       "6        2606          45           7        270       5    633   \n",
       "7        2605          49           4        234       7    573   \n",
       "8        2617          45           9        240      56    666   \n",
       "9        2612          59          10        247      11    636   \n",
       "\n",
       "   Horizontal_Distance_To_Hydrology  Vertical_Distance_To_Hydrology  \\\n",
       "0                               221                             232   \n",
       "1                               220                             235   \n",
       "2                               234                             238   \n",
       "3                               238                             238   \n",
       "4                               220                             234   \n",
       "5                               230                             237   \n",
       "6                               222                             225   \n",
       "7                               222                             230   \n",
       "8                               223                             221   \n",
       "9                               228                             219   \n",
       "\n",
       "   Horizontal_Distance_To_Roadways  Hillshade_9am  ...  Soil_Type32  \\\n",
       "0                              148           6279  ...            0   \n",
       "1                              151           6225  ...            0   \n",
       "2                              135           6121  ...            0   \n",
       "3                              122           6211  ...            0   \n",
       "4                              150           6172  ...            0   \n",
       "5                              140           6031  ...            0   \n",
       "6                              138           6256  ...            0   \n",
       "7                              144           6228  ...            0   \n",
       "8                              133           6244  ...            0   \n",
       "9                              124           6230  ...            0   \n",
       "\n",
       "   Soil_Type33  Soil_Type34  Soil_Type35  Soil_Type36  Soil_Type37  \\\n",
       "0            0            0            0            0            0   \n",
       "1            0            0            0            0            0   \n",
       "2            0            0            0            0            0   \n",
       "3            0            0            0            0            0   \n",
       "4            0            0            0            0            0   \n",
       "5            0            0            0            0            0   \n",
       "6            0            0            0            0            0   \n",
       "7            0            0            0            0            0   \n",
       "8            0            0            0            0            0   \n",
       "9            0            0            0            0            0   \n",
       "\n",
       "   Soil_Type38  Soil_Type39  Soil_Type40  Cover_Type  \n",
       "0            0            0            0           5  \n",
       "1            0            0            0           5  \n",
       "2            0            0            0           2  \n",
       "3            0            0            0           2  \n",
       "4            0            0            0           5  \n",
       "5            0            0            0           2  \n",
       "6            0            0            0           5  \n",
       "7            0            0            0           5  \n",
       "8            0            0            0           5  \n",
       "9            0            0            0           5  \n",
       "\n",
       "[10 rows x 55 columns]"
      ]
     },
     "execution_count": 3,
     "metadata": {},
     "output_type": "execute_result"
    }
   ],
   "source": [
    "df = pd.read_csv('/kaggle/input/covertype-forest-cover-types/covertype.csv')\n",
    "df.head(10)"
   ]
  },
  {
   "cell_type": "code",
   "execution_count": 4,
   "id": "987fc001",
   "metadata": {
    "execution": {
     "iopub.execute_input": "2025-07-18T23:26:10.208617Z",
     "iopub.status.busy": "2025-07-18T23:26:10.208156Z",
     "iopub.status.idle": "2025-07-18T23:26:15.465828Z",
     "shell.execute_reply": "2025-07-18T23:26:15.464599Z"
    },
    "papermill": {
     "duration": 5.269423,
     "end_time": "2025-07-18T23:26:15.468050",
     "exception": false,
     "start_time": "2025-07-18T23:26:10.198627",
     "status": "completed"
    },
    "tags": []
   },
   "outputs": [
    {
     "name": "stdout",
     "output_type": "stream",
     "text": [
      "Cover_Type                            1.000000\n",
      "Wilderness_Area                       0.323200\n",
      "Soil_Type10                           0.243876\n",
      "Soil_Type38                           0.160170\n",
      "Soil_Type39                           0.155668\n",
      "Unnamed: 2                            0.148285\n",
      "Soil_Type40                           0.128351\n",
      "Soil_Type2                            0.118135\n",
      "Soil_Type6                            0.112958\n",
      "Soil_Type4                            0.099672\n",
      "Soil_Type1                            0.090828\n",
      "Soil_Type17                           0.090582\n",
      "Aspect                                0.081664\n",
      "Soil_Type35                           0.080315\n",
      "Soil_Type37                           0.080271\n",
      "Soil_Type5                            0.077890\n",
      "Soil_Type3                            0.068064\n",
      "Horizontal_Distance_To_Fire_Points    0.066846\n",
      "Soil_Type14                           0.065562\n",
      "Soil_Type11                           0.035379\n",
      "Soil_Type36                           0.025397\n",
      "Soil_Type13                           0.024404\n",
      "Unnamed: 1                            0.017080\n",
      "Soil_Type16                           0.009844\n",
      "Soil_Type18                           0.007390\n",
      "Soil_Type15                           0.006425\n",
      "Soil_Type34                           0.004643\n",
      "Soil_Type26                          -0.000375\n",
      "Soil_Type7                           -0.000496\n",
      "Soil_Type28                          -0.001702\n",
      "Soil_Type8                           -0.003667\n",
      "Soil_Type9                           -0.006110\n",
      "Soil_Type25                          -0.006449\n",
      "Soil_Type30                          -0.010436\n",
      "Soil_Type27                          -0.014407\n",
      "Elevation                            -0.020317\n",
      "Soil_Type12                          -0.023601\n",
      "Soil_Type21                          -0.025400\n",
      "Soil_Type20                          -0.028665\n",
      "Horizontal_Distance_To_Hydrology     -0.035415\n",
      "Soil_Type19                          -0.036452\n",
      "Hillshade_3pm                        -0.048059\n",
      "Horizontal_Distance_To_Roadways      -0.048290\n",
      "Soil_Type33                          -0.062502\n",
      "Soil_Type31                          -0.065347\n",
      "Soil_Type24                          -0.068746\n",
      "Soil_Type32                          -0.075562\n",
      "Vertical_Distance_To_Hydrology       -0.096426\n",
      "Hillshade_9am                        -0.108936\n",
      "Soil_Type29                          -0.124933\n",
      "Soil_Type23                          -0.135055\n",
      "Soil_Type22                          -0.141746\n",
      "Slope                                -0.153450\n",
      "Hillshade_Noon                       -0.203913\n",
      "Unnamed: 0                           -0.269554\n",
      "Name: Cover_Type, dtype: float64\n"
     ]
    }
   ],
   "source": [
    "correlation = df.corr(numeric_only=True)['Cover_Type'].sort_values(ascending=False)\n",
    "print(correlation)"
   ]
  },
  {
   "cell_type": "markdown",
   "id": "8adbe07d",
   "metadata": {
    "papermill": {
     "duration": 0.00906,
     "end_time": "2025-07-18T23:26:15.487211",
     "exception": false,
     "start_time": "2025-07-18T23:26:15.478151",
     "status": "completed"
    },
    "tags": []
   },
   "source": [
    "correlation results show that Unnamed: 2 has a correlation of 0.148 with Cover_Type, which means it’s not just random noise—it carries some useful information for predicting the forest cover type.\n",
    "\n"
   ]
  },
  {
   "cell_type": "code",
   "execution_count": 5,
   "id": "b626fd3e",
   "metadata": {
    "execution": {
     "iopub.execute_input": "2025-07-18T23:26:15.509161Z",
     "iopub.status.busy": "2025-07-18T23:26:15.508075Z",
     "iopub.status.idle": "2025-07-18T23:26:15.677777Z",
     "shell.execute_reply": "2025-07-18T23:26:15.676393Z"
    },
    "papermill": {
     "duration": 0.183141,
     "end_time": "2025-07-18T23:26:15.679693",
     "exception": false,
     "start_time": "2025-07-18T23:26:15.496552",
     "status": "completed"
    },
    "tags": []
   },
   "outputs": [],
   "source": [
    "df = df.rename(columns = {'Unnamed: 0': 'Feature_0' , 'Unnamed: 1': 'Feature_1' , 'Unnamed: 2': 'Feature_2'})"
   ]
  },
  {
   "cell_type": "markdown",
   "id": "8b3d0a1e",
   "metadata": {
    "papermill": {
     "duration": 0.008039,
     "end_time": "2025-07-18T23:26:15.696397",
     "exception": false,
     "start_time": "2025-07-18T23:26:15.688358",
     "status": "completed"
    },
    "tags": []
   },
   "source": [
    "## Exploring the data"
   ]
  },
  {
   "cell_type": "code",
   "execution_count": 6,
   "id": "2ecda6da",
   "metadata": {
    "execution": {
     "iopub.execute_input": "2025-07-18T23:26:15.715721Z",
     "iopub.status.busy": "2025-07-18T23:26:15.715295Z",
     "iopub.status.idle": "2025-07-18T23:26:15.721731Z",
     "shell.execute_reply": "2025-07-18T23:26:15.720830Z"
    },
    "papermill": {
     "duration": 0.01803,
     "end_time": "2025-07-18T23:26:15.723575",
     "exception": false,
     "start_time": "2025-07-18T23:26:15.705545",
     "status": "completed"
    },
    "tags": []
   },
   "outputs": [
    {
     "data": {
      "text/plain": [
       "(581012, 55)"
      ]
     },
     "execution_count": 6,
     "metadata": {},
     "output_type": "execute_result"
    }
   ],
   "source": [
    "df.shape"
   ]
  },
  {
   "cell_type": "code",
   "execution_count": 7,
   "id": "e48f5d42",
   "metadata": {
    "execution": {
     "iopub.execute_input": "2025-07-18T23:26:15.744165Z",
     "iopub.status.busy": "2025-07-18T23:26:15.743779Z",
     "iopub.status.idle": "2025-07-18T23:26:15.845960Z",
     "shell.execute_reply": "2025-07-18T23:26:15.844735Z"
    },
    "papermill": {
     "duration": 0.114767,
     "end_time": "2025-07-18T23:26:15.847935",
     "exception": false,
     "start_time": "2025-07-18T23:26:15.733168",
     "status": "completed"
    },
    "tags": []
   },
   "outputs": [
    {
     "name": "stdout",
     "output_type": "stream",
     "text": [
      "<class 'pandas.core.frame.DataFrame'>\n",
      "RangeIndex: 581012 entries, 0 to 581011\n",
      "Data columns (total 55 columns):\n",
      " #   Column                              Non-Null Count   Dtype\n",
      "---  ------                              --------------   -----\n",
      " 0   Feature_0                           581012 non-null  int64\n",
      " 1   Feature_1                           581012 non-null  int64\n",
      " 2   Feature_2                           581012 non-null  int64\n",
      " 3   Elevation                           581012 non-null  int64\n",
      " 4   Aspect                              581012 non-null  int64\n",
      " 5   Slope                               581012 non-null  int64\n",
      " 6   Horizontal_Distance_To_Hydrology    581012 non-null  int64\n",
      " 7   Vertical_Distance_To_Hydrology      581012 non-null  int64\n",
      " 8   Horizontal_Distance_To_Roadways     581012 non-null  int64\n",
      " 9   Hillshade_9am                       581012 non-null  int64\n",
      " 10  Hillshade_Noon                      581012 non-null  int64\n",
      " 11  Hillshade_3pm                       581012 non-null  int64\n",
      " 12  Horizontal_Distance_To_Fire_Points  581012 non-null  int64\n",
      " 13  Wilderness_Area                     581012 non-null  int64\n",
      " 14  Soil_Type1                          581012 non-null  int64\n",
      " 15  Soil_Type2                          581012 non-null  int64\n",
      " 16  Soil_Type3                          581012 non-null  int64\n",
      " 17  Soil_Type4                          581012 non-null  int64\n",
      " 18  Soil_Type5                          581012 non-null  int64\n",
      " 19  Soil_Type6                          581012 non-null  int64\n",
      " 20  Soil_Type7                          581012 non-null  int64\n",
      " 21  Soil_Type8                          581012 non-null  int64\n",
      " 22  Soil_Type9                          581012 non-null  int64\n",
      " 23  Soil_Type10                         581012 non-null  int64\n",
      " 24  Soil_Type11                         581012 non-null  int64\n",
      " 25  Soil_Type12                         581012 non-null  int64\n",
      " 26  Soil_Type13                         581012 non-null  int64\n",
      " 27  Soil_Type14                         581012 non-null  int64\n",
      " 28  Soil_Type15                         581012 non-null  int64\n",
      " 29  Soil_Type16                         581012 non-null  int64\n",
      " 30  Soil_Type17                         581012 non-null  int64\n",
      " 31  Soil_Type18                         581012 non-null  int64\n",
      " 32  Soil_Type19                         581012 non-null  int64\n",
      " 33  Soil_Type20                         581012 non-null  int64\n",
      " 34  Soil_Type21                         581012 non-null  int64\n",
      " 35  Soil_Type22                         581012 non-null  int64\n",
      " 36  Soil_Type23                         581012 non-null  int64\n",
      " 37  Soil_Type24                         581012 non-null  int64\n",
      " 38  Soil_Type25                         581012 non-null  int64\n",
      " 39  Soil_Type26                         581012 non-null  int64\n",
      " 40  Soil_Type27                         581012 non-null  int64\n",
      " 41  Soil_Type28                         581012 non-null  int64\n",
      " 42  Soil_Type29                         581012 non-null  int64\n",
      " 43  Soil_Type30                         581012 non-null  int64\n",
      " 44  Soil_Type31                         581012 non-null  int64\n",
      " 45  Soil_Type32                         581012 non-null  int64\n",
      " 46  Soil_Type33                         581012 non-null  int64\n",
      " 47  Soil_Type34                         581012 non-null  int64\n",
      " 48  Soil_Type35                         581012 non-null  int64\n",
      " 49  Soil_Type36                         581012 non-null  int64\n",
      " 50  Soil_Type37                         581012 non-null  int64\n",
      " 51  Soil_Type38                         581012 non-null  int64\n",
      " 52  Soil_Type39                         581012 non-null  int64\n",
      " 53  Soil_Type40                         581012 non-null  int64\n",
      " 54  Cover_Type                          581012 non-null  int64\n",
      "dtypes: int64(55)\n",
      "memory usage: 243.8 MB\n"
     ]
    }
   ],
   "source": [
    "df.info()"
   ]
  },
  {
   "cell_type": "code",
   "execution_count": 8,
   "id": "63020e39",
   "metadata": {
    "execution": {
     "iopub.execute_input": "2025-07-18T23:26:15.869033Z",
     "iopub.status.busy": "2025-07-18T23:26:15.868618Z",
     "iopub.status.idle": "2025-07-18T23:26:16.999743Z",
     "shell.execute_reply": "2025-07-18T23:26:16.998501Z"
    },
    "papermill": {
     "duration": 1.144931,
     "end_time": "2025-07-18T23:26:17.001995",
     "exception": false,
     "start_time": "2025-07-18T23:26:15.857064",
     "status": "completed"
    },
    "tags": []
   },
   "outputs": [
    {
     "data": {
      "text/html": [
       "<div>\n",
       "<style scoped>\n",
       "    .dataframe tbody tr th:only-of-type {\n",
       "        vertical-align: middle;\n",
       "    }\n",
       "\n",
       "    .dataframe tbody tr th {\n",
       "        vertical-align: top;\n",
       "    }\n",
       "\n",
       "    .dataframe thead th {\n",
       "        text-align: right;\n",
       "    }\n",
       "</style>\n",
       "<table border=\"1\" class=\"dataframe\">\n",
       "  <thead>\n",
       "    <tr style=\"text-align: right;\">\n",
       "      <th></th>\n",
       "      <th>Feature_0</th>\n",
       "      <th>Feature_1</th>\n",
       "      <th>Feature_2</th>\n",
       "      <th>Elevation</th>\n",
       "      <th>Aspect</th>\n",
       "      <th>Slope</th>\n",
       "      <th>Horizontal_Distance_To_Hydrology</th>\n",
       "      <th>Vertical_Distance_To_Hydrology</th>\n",
       "      <th>Horizontal_Distance_To_Roadways</th>\n",
       "      <th>Hillshade_9am</th>\n",
       "      <th>...</th>\n",
       "      <th>Soil_Type32</th>\n",
       "      <th>Soil_Type33</th>\n",
       "      <th>Soil_Type34</th>\n",
       "      <th>Soil_Type35</th>\n",
       "      <th>Soil_Type36</th>\n",
       "      <th>Soil_Type37</th>\n",
       "      <th>Soil_Type38</th>\n",
       "      <th>Soil_Type39</th>\n",
       "      <th>Soil_Type40</th>\n",
       "      <th>Cover_Type</th>\n",
       "    </tr>\n",
       "  </thead>\n",
       "  <tbody>\n",
       "    <tr>\n",
       "      <th>count</th>\n",
       "      <td>581012.000000</td>\n",
       "      <td>581012.000000</td>\n",
       "      <td>581012.000000</td>\n",
       "      <td>581012.000000</td>\n",
       "      <td>581012.000000</td>\n",
       "      <td>581012.000000</td>\n",
       "      <td>581012.000000</td>\n",
       "      <td>581012.000000</td>\n",
       "      <td>581012.000000</td>\n",
       "      <td>581012.000000</td>\n",
       "      <td>...</td>\n",
       "      <td>581012.000000</td>\n",
       "      <td>581012.000000</td>\n",
       "      <td>581012.000000</td>\n",
       "      <td>581012.000000</td>\n",
       "      <td>581012.000000</td>\n",
       "      <td>581012.000000</td>\n",
       "      <td>581012.000000</td>\n",
       "      <td>581012.000000</td>\n",
       "      <td>581012.000000</td>\n",
       "      <td>581012.000000</td>\n",
       "    </tr>\n",
       "    <tr>\n",
       "      <th>mean</th>\n",
       "      <td>2959.365301</td>\n",
       "      <td>155.656807</td>\n",
       "      <td>14.103704</td>\n",
       "      <td>269.428217</td>\n",
       "      <td>46.418855</td>\n",
       "      <td>2350.146611</td>\n",
       "      <td>212.146049</td>\n",
       "      <td>223.318716</td>\n",
       "      <td>142.528263</td>\n",
       "      <td>1980.291226</td>\n",
       "      <td>...</td>\n",
       "      <td>0.090392</td>\n",
       "      <td>0.077716</td>\n",
       "      <td>0.002773</td>\n",
       "      <td>0.003255</td>\n",
       "      <td>0.000205</td>\n",
       "      <td>0.000513</td>\n",
       "      <td>0.026803</td>\n",
       "      <td>0.023762</td>\n",
       "      <td>0.015060</td>\n",
       "      <td>2.051471</td>\n",
       "    </tr>\n",
       "    <tr>\n",
       "      <th>std</th>\n",
       "      <td>279.984734</td>\n",
       "      <td>111.913721</td>\n",
       "      <td>7.488242</td>\n",
       "      <td>212.549356</td>\n",
       "      <td>58.295232</td>\n",
       "      <td>1559.254870</td>\n",
       "      <td>26.769889</td>\n",
       "      <td>19.768697</td>\n",
       "      <td>38.274529</td>\n",
       "      <td>1324.195210</td>\n",
       "      <td>...</td>\n",
       "      <td>0.286743</td>\n",
       "      <td>0.267725</td>\n",
       "      <td>0.052584</td>\n",
       "      <td>0.056957</td>\n",
       "      <td>0.014310</td>\n",
       "      <td>0.022641</td>\n",
       "      <td>0.161508</td>\n",
       "      <td>0.152307</td>\n",
       "      <td>0.121791</td>\n",
       "      <td>1.396504</td>\n",
       "    </tr>\n",
       "    <tr>\n",
       "      <th>min</th>\n",
       "      <td>1859.000000</td>\n",
       "      <td>0.000000</td>\n",
       "      <td>0.000000</td>\n",
       "      <td>0.000000</td>\n",
       "      <td>-173.000000</td>\n",
       "      <td>0.000000</td>\n",
       "      <td>0.000000</td>\n",
       "      <td>0.000000</td>\n",
       "      <td>0.000000</td>\n",
       "      <td>0.000000</td>\n",
       "      <td>...</td>\n",
       "      <td>0.000000</td>\n",
       "      <td>0.000000</td>\n",
       "      <td>0.000000</td>\n",
       "      <td>0.000000</td>\n",
       "      <td>0.000000</td>\n",
       "      <td>0.000000</td>\n",
       "      <td>0.000000</td>\n",
       "      <td>0.000000</td>\n",
       "      <td>0.000000</td>\n",
       "      <td>1.000000</td>\n",
       "    </tr>\n",
       "    <tr>\n",
       "      <th>25%</th>\n",
       "      <td>2809.000000</td>\n",
       "      <td>58.000000</td>\n",
       "      <td>9.000000</td>\n",
       "      <td>108.000000</td>\n",
       "      <td>7.000000</td>\n",
       "      <td>1106.000000</td>\n",
       "      <td>198.000000</td>\n",
       "      <td>213.000000</td>\n",
       "      <td>119.000000</td>\n",
       "      <td>1024.000000</td>\n",
       "      <td>...</td>\n",
       "      <td>0.000000</td>\n",
       "      <td>0.000000</td>\n",
       "      <td>0.000000</td>\n",
       "      <td>0.000000</td>\n",
       "      <td>0.000000</td>\n",
       "      <td>0.000000</td>\n",
       "      <td>0.000000</td>\n",
       "      <td>0.000000</td>\n",
       "      <td>0.000000</td>\n",
       "      <td>1.000000</td>\n",
       "    </tr>\n",
       "    <tr>\n",
       "      <th>50%</th>\n",
       "      <td>2996.000000</td>\n",
       "      <td>127.000000</td>\n",
       "      <td>13.000000</td>\n",
       "      <td>218.000000</td>\n",
       "      <td>30.000000</td>\n",
       "      <td>1997.000000</td>\n",
       "      <td>218.000000</td>\n",
       "      <td>226.000000</td>\n",
       "      <td>143.000000</td>\n",
       "      <td>1710.000000</td>\n",
       "      <td>...</td>\n",
       "      <td>0.000000</td>\n",
       "      <td>0.000000</td>\n",
       "      <td>0.000000</td>\n",
       "      <td>0.000000</td>\n",
       "      <td>0.000000</td>\n",
       "      <td>0.000000</td>\n",
       "      <td>0.000000</td>\n",
       "      <td>0.000000</td>\n",
       "      <td>0.000000</td>\n",
       "      <td>2.000000</td>\n",
       "    </tr>\n",
       "    <tr>\n",
       "      <th>75%</th>\n",
       "      <td>3163.000000</td>\n",
       "      <td>260.000000</td>\n",
       "      <td>18.000000</td>\n",
       "      <td>384.000000</td>\n",
       "      <td>69.000000</td>\n",
       "      <td>3328.000000</td>\n",
       "      <td>231.000000</td>\n",
       "      <td>237.000000</td>\n",
       "      <td>168.000000</td>\n",
       "      <td>2550.000000</td>\n",
       "      <td>...</td>\n",
       "      <td>0.000000</td>\n",
       "      <td>0.000000</td>\n",
       "      <td>0.000000</td>\n",
       "      <td>0.000000</td>\n",
       "      <td>0.000000</td>\n",
       "      <td>0.000000</td>\n",
       "      <td>0.000000</td>\n",
       "      <td>0.000000</td>\n",
       "      <td>0.000000</td>\n",
       "      <td>2.000000</td>\n",
       "    </tr>\n",
       "    <tr>\n",
       "      <th>max</th>\n",
       "      <td>3858.000000</td>\n",
       "      <td>360.000000</td>\n",
       "      <td>66.000000</td>\n",
       "      <td>1397.000000</td>\n",
       "      <td>601.000000</td>\n",
       "      <td>7117.000000</td>\n",
       "      <td>254.000000</td>\n",
       "      <td>254.000000</td>\n",
       "      <td>254.000000</td>\n",
       "      <td>7173.000000</td>\n",
       "      <td>...</td>\n",
       "      <td>1.000000</td>\n",
       "      <td>1.000000</td>\n",
       "      <td>1.000000</td>\n",
       "      <td>1.000000</td>\n",
       "      <td>1.000000</td>\n",
       "      <td>1.000000</td>\n",
       "      <td>1.000000</td>\n",
       "      <td>1.000000</td>\n",
       "      <td>1.000000</td>\n",
       "      <td>7.000000</td>\n",
       "    </tr>\n",
       "  </tbody>\n",
       "</table>\n",
       "<p>8 rows × 55 columns</p>\n",
       "</div>"
      ],
      "text/plain": [
       "           Feature_0      Feature_1      Feature_2      Elevation  \\\n",
       "count  581012.000000  581012.000000  581012.000000  581012.000000   \n",
       "mean     2959.365301     155.656807      14.103704     269.428217   \n",
       "std       279.984734     111.913721       7.488242     212.549356   \n",
       "min      1859.000000       0.000000       0.000000       0.000000   \n",
       "25%      2809.000000      58.000000       9.000000     108.000000   \n",
       "50%      2996.000000     127.000000      13.000000     218.000000   \n",
       "75%      3163.000000     260.000000      18.000000     384.000000   \n",
       "max      3858.000000     360.000000      66.000000    1397.000000   \n",
       "\n",
       "              Aspect          Slope  Horizontal_Distance_To_Hydrology  \\\n",
       "count  581012.000000  581012.000000                     581012.000000   \n",
       "mean       46.418855    2350.146611                        212.146049   \n",
       "std        58.295232    1559.254870                         26.769889   \n",
       "min      -173.000000       0.000000                          0.000000   \n",
       "25%         7.000000    1106.000000                        198.000000   \n",
       "50%        30.000000    1997.000000                        218.000000   \n",
       "75%        69.000000    3328.000000                        231.000000   \n",
       "max       601.000000    7117.000000                        254.000000   \n",
       "\n",
       "       Vertical_Distance_To_Hydrology  Horizontal_Distance_To_Roadways  \\\n",
       "count                   581012.000000                    581012.000000   \n",
       "mean                       223.318716                       142.528263   \n",
       "std                         19.768697                        38.274529   \n",
       "min                          0.000000                         0.000000   \n",
       "25%                        213.000000                       119.000000   \n",
       "50%                        226.000000                       143.000000   \n",
       "75%                        237.000000                       168.000000   \n",
       "max                        254.000000                       254.000000   \n",
       "\n",
       "       Hillshade_9am  ...    Soil_Type32    Soil_Type33    Soil_Type34  \\\n",
       "count  581012.000000  ...  581012.000000  581012.000000  581012.000000   \n",
       "mean     1980.291226  ...       0.090392       0.077716       0.002773   \n",
       "std      1324.195210  ...       0.286743       0.267725       0.052584   \n",
       "min         0.000000  ...       0.000000       0.000000       0.000000   \n",
       "25%      1024.000000  ...       0.000000       0.000000       0.000000   \n",
       "50%      1710.000000  ...       0.000000       0.000000       0.000000   \n",
       "75%      2550.000000  ...       0.000000       0.000000       0.000000   \n",
       "max      7173.000000  ...       1.000000       1.000000       1.000000   \n",
       "\n",
       "         Soil_Type35    Soil_Type36    Soil_Type37    Soil_Type38  \\\n",
       "count  581012.000000  581012.000000  581012.000000  581012.000000   \n",
       "mean        0.003255       0.000205       0.000513       0.026803   \n",
       "std         0.056957       0.014310       0.022641       0.161508   \n",
       "min         0.000000       0.000000       0.000000       0.000000   \n",
       "25%         0.000000       0.000000       0.000000       0.000000   \n",
       "50%         0.000000       0.000000       0.000000       0.000000   \n",
       "75%         0.000000       0.000000       0.000000       0.000000   \n",
       "max         1.000000       1.000000       1.000000       1.000000   \n",
       "\n",
       "         Soil_Type39    Soil_Type40     Cover_Type  \n",
       "count  581012.000000  581012.000000  581012.000000  \n",
       "mean        0.023762       0.015060       2.051471  \n",
       "std         0.152307       0.121791       1.396504  \n",
       "min         0.000000       0.000000       1.000000  \n",
       "25%         0.000000       0.000000       1.000000  \n",
       "50%         0.000000       0.000000       2.000000  \n",
       "75%         0.000000       0.000000       2.000000  \n",
       "max         1.000000       1.000000       7.000000  \n",
       "\n",
       "[8 rows x 55 columns]"
      ]
     },
     "execution_count": 8,
     "metadata": {},
     "output_type": "execute_result"
    }
   ],
   "source": [
    "df.describe()"
   ]
  },
  {
   "cell_type": "markdown",
   "id": "9a59e743",
   "metadata": {
    "papermill": {
     "duration": 0.010237,
     "end_time": "2025-07-18T23:26:17.023581",
     "exception": false,
     "start_time": "2025-07-18T23:26:17.013344",
     "status": "completed"
    },
    "tags": []
   },
   "source": [
    "## 🧹 Data Preprocessing\n",
    "- Handle missing values (if any)\n",
    "- Convert categorical variables (e.g., Wilderness_Area, Soil_Type)\n",
    "- Split data into features (X) and target (y)\n",
    "- Normalize or scale continuous features if needed"
   ]
  },
  {
   "cell_type": "code",
   "execution_count": 9,
   "id": "d215f810",
   "metadata": {
    "execution": {
     "iopub.execute_input": "2025-07-18T23:26:17.046153Z",
     "iopub.status.busy": "2025-07-18T23:26:17.045742Z",
     "iopub.status.idle": "2025-07-18T23:26:17.106949Z",
     "shell.execute_reply": "2025-07-18T23:26:17.105796Z"
    },
    "papermill": {
     "duration": 0.073953,
     "end_time": "2025-07-18T23:26:17.109043",
     "exception": false,
     "start_time": "2025-07-18T23:26:17.035090",
     "status": "completed"
    },
    "tags": []
   },
   "outputs": [
    {
     "data": {
      "text/plain": [
       "Feature_0                             0\n",
       "Feature_1                             0\n",
       "Feature_2                             0\n",
       "Elevation                             0\n",
       "Aspect                                0\n",
       "Slope                                 0\n",
       "Horizontal_Distance_To_Hydrology      0\n",
       "Vertical_Distance_To_Hydrology        0\n",
       "Horizontal_Distance_To_Roadways       0\n",
       "Hillshade_9am                         0\n",
       "Hillshade_Noon                        0\n",
       "Hillshade_3pm                         0\n",
       "Horizontal_Distance_To_Fire_Points    0\n",
       "Wilderness_Area                       0\n",
       "Soil_Type1                            0\n",
       "Soil_Type2                            0\n",
       "Soil_Type3                            0\n",
       "Soil_Type4                            0\n",
       "Soil_Type5                            0\n",
       "Soil_Type6                            0\n",
       "Soil_Type7                            0\n",
       "Soil_Type8                            0\n",
       "Soil_Type9                            0\n",
       "Soil_Type10                           0\n",
       "Soil_Type11                           0\n",
       "Soil_Type12                           0\n",
       "Soil_Type13                           0\n",
       "Soil_Type14                           0\n",
       "Soil_Type15                           0\n",
       "Soil_Type16                           0\n",
       "Soil_Type17                           0\n",
       "Soil_Type18                           0\n",
       "Soil_Type19                           0\n",
       "Soil_Type20                           0\n",
       "Soil_Type21                           0\n",
       "Soil_Type22                           0\n",
       "Soil_Type23                           0\n",
       "Soil_Type24                           0\n",
       "Soil_Type25                           0\n",
       "Soil_Type26                           0\n",
       "Soil_Type27                           0\n",
       "Soil_Type28                           0\n",
       "Soil_Type29                           0\n",
       "Soil_Type30                           0\n",
       "Soil_Type31                           0\n",
       "Soil_Type32                           0\n",
       "Soil_Type33                           0\n",
       "Soil_Type34                           0\n",
       "Soil_Type35                           0\n",
       "Soil_Type36                           0\n",
       "Soil_Type37                           0\n",
       "Soil_Type38                           0\n",
       "Soil_Type39                           0\n",
       "Soil_Type40                           0\n",
       "Cover_Type                            0\n",
       "dtype: int64"
      ]
     },
     "execution_count": 9,
     "metadata": {},
     "output_type": "execute_result"
    }
   ],
   "source": [
    "df.isnull().sum()"
   ]
  },
  {
   "cell_type": "markdown",
   "id": "bdcc7405",
   "metadata": {
    "papermill": {
     "duration": 0.117897,
     "end_time": "2025-07-18T23:26:17.240155",
     "exception": false,
     "start_time": "2025-07-18T23:26:17.122258",
     "status": "completed"
    },
    "tags": []
   },
   "source": [
    "## Feature-target split"
   ]
  },
  {
   "cell_type": "code",
   "execution_count": 10,
   "id": "2001ec79",
   "metadata": {
    "execution": {
     "iopub.execute_input": "2025-07-18T23:26:17.262291Z",
     "iopub.status.busy": "2025-07-18T23:26:17.261313Z",
     "iopub.status.idle": "2025-07-18T23:26:17.399199Z",
     "shell.execute_reply": "2025-07-18T23:26:17.398184Z"
    },
    "papermill": {
     "duration": 0.150732,
     "end_time": "2025-07-18T23:26:17.401347",
     "exception": false,
     "start_time": "2025-07-18T23:26:17.250615",
     "status": "completed"
    },
    "tags": []
   },
   "outputs": [],
   "source": [
    "X = df.drop('Cover_Type', axis=1)\n",
    "y = df['Cover_Type']"
   ]
  },
  {
   "cell_type": "markdown",
   "id": "9ff3b53b",
   "metadata": {
    "papermill": {
     "duration": 0.009176,
     "end_time": "2025-07-18T23:26:17.420249",
     "exception": false,
     "start_time": "2025-07-18T23:26:17.411073",
     "status": "completed"
    },
    "tags": []
   },
   "source": [
    "### 📊 Class Distribution Check\n",
    "Before applying classification models, we check the distribution of the target variable `Cover_Type`.  \n",
    "Imbalanced datasets can bias the model toward majority classes. If imbalance is detected, we will apply class weights or resampling methods.\n"
   ]
  },
  {
   "cell_type": "code",
   "execution_count": 11,
   "id": "bdf15b88",
   "metadata": {
    "execution": {
     "iopub.execute_input": "2025-07-18T23:26:17.441112Z",
     "iopub.status.busy": "2025-07-18T23:26:17.440628Z",
     "iopub.status.idle": "2025-07-18T23:26:17.458295Z",
     "shell.execute_reply": "2025-07-18T23:26:17.457174Z"
    },
    "papermill": {
     "duration": 0.030381,
     "end_time": "2025-07-18T23:26:17.460100",
     "exception": false,
     "start_time": "2025-07-18T23:26:17.429719",
     "status": "completed"
    },
    "tags": []
   },
   "outputs": [
    {
     "name": "stdout",
     "output_type": "stream",
     "text": [
      "Cover_Type\n",
      "2    283301\n",
      "1    211840\n",
      "3     35754\n",
      "7     20510\n",
      "6     17367\n",
      "5      9493\n",
      "4      2747\n",
      "Name: count, dtype: int64\n",
      "Cover_Type\n",
      "2    48.759922\n",
      "1    36.460521\n",
      "3     6.153746\n",
      "7     3.530048\n",
      "6     2.989095\n",
      "5     1.633873\n",
      "4     0.472796\n",
      "Name: proportion, dtype: float64\n"
     ]
    }
   ],
   "source": [
    "print(y.value_counts())\n",
    "print(y.value_counts(normalize=True) * 100)"
   ]
  },
  {
   "cell_type": "code",
   "execution_count": 12,
   "id": "c0febe93",
   "metadata": {
    "execution": {
     "iopub.execute_input": "2025-07-18T23:26:17.482666Z",
     "iopub.status.busy": "2025-07-18T23:26:17.481841Z",
     "iopub.status.idle": "2025-07-18T23:26:17.860175Z",
     "shell.execute_reply": "2025-07-18T23:26:17.859199Z"
    },
    "papermill": {
     "duration": 0.392487,
     "end_time": "2025-07-18T23:26:17.862384",
     "exception": false,
     "start_time": "2025-07-18T23:26:17.469897",
     "status": "completed"
    },
    "tags": []
   },
   "outputs": [
    {
     "data": {
      "image/png": "[encoded data removed]",
      "text/plain": [
       "<Figure size 640x480 with 1 Axes>"
      ]
     },
     "metadata": {},
     "output_type": "display_data"
    }
   ],
   "source": [
    "sns.countplot(x=y)\n",
    "plt.title(\"Class Distribution of Target Variable\")\n",
    "plt.show()"
   ]
  },
  {
   "cell_type": "markdown",
   "id": "a3a2d575",
   "metadata": {
    "papermill": {
     "duration": 0.009687,
     "end_time": "2025-07-18T23:26:17.882712",
     "exception": false,
     "start_time": "2025-07-18T23:26:17.873025",
     "status": "completed"
    },
    "tags": []
   },
   "source": [
    "## class distribution for Cover_Type clearly shows imbalance:\n",
    "\n",
    "Class 2: ~48.8% of the data\n",
    "\n",
    "Class 1: ~36.5% of the data\n",
    "\n",
    "Class 4: less than 0.5% of the data\n",
    "\n",
    "This means the model could easily favor classes 1 and 2 while ignoring minority classes (4, 5, 6, 7), leading to high accuracy but poor recall for rare classes.\n",
    "\n"
   ]
  },
  {
   "cell_type": "markdown",
   "id": "373a9237",
   "metadata": {
    "papermill": {
     "duration": 0.009628,
     "end_time": "2025-07-18T23:26:17.902476",
     "exception": false,
     "start_time": "2025-07-18T23:26:17.892848",
     "status": "completed"
    },
    "tags": []
   },
   "source": [
    "## Train-test split"
   ]
  },
  {
   "cell_type": "code",
   "execution_count": 13,
   "id": "ab3db3c2",
   "metadata": {
    "execution": {
     "iopub.execute_input": "2025-07-18T23:26:17.923901Z",
     "iopub.status.busy": "2025-07-18T23:26:17.923536Z",
     "iopub.status.idle": "2025-07-18T23:26:18.714406Z",
     "shell.execute_reply": "2025-07-18T23:26:18.713363Z"
    },
    "papermill": {
     "duration": 0.803899,
     "end_time": "2025-07-18T23:26:18.716304",
     "exception": false,
     "start_time": "2025-07-18T23:26:17.912405",
     "status": "completed"
    },
    "tags": []
   },
   "outputs": [],
   "source": [
    "X_train, X_test, y_train, y_test = train_test_split(X, y, test_size=0.2, random_state=42, stratify=y)"
   ]
  },
  {
   "cell_type": "markdown",
   "id": "95b960ce",
   "metadata": {
    "papermill": {
     "duration": 0.009566,
     "end_time": "2025-07-18T23:26:18.736038",
     "exception": false,
     "start_time": "2025-07-18T23:26:18.726472",
     "status": "completed"
    },
    "tags": []
   },
   "source": [
    "## Handling Class Imbalance In Random Forest\n",
    "\n",
    "The dataset shows class imbalance among the 7 forest cover types.  \n",
    "To address this, we:\n",
    "1. Used `class_weight='balanced'` in Random Forest to adjust misclassification penalties.\n",
    "2. Compared macro metrics (precision, recall, F1) instead of accuracy alone."
   ]
  },
  {
   "cell_type": "markdown",
   "id": "0e9724bd",
   "metadata": {
    "papermill": {
     "duration": 0.009497,
     "end_time": "2025-07-18T23:26:18.755217",
     "exception": false,
     "start_time": "2025-07-18T23:26:18.745720",
     "status": "completed"
    },
    "tags": []
   },
   "source": [
    " ## Model Training Random Forest"
   ]
  },
  {
   "cell_type": "code",
   "execution_count": 14,
   "id": "b6feb0e6",
   "metadata": {
    "execution": {
     "iopub.execute_input": "2025-07-18T23:26:18.776091Z",
     "iopub.status.busy": "2025-07-18T23:26:18.775702Z",
     "iopub.status.idle": "2025-07-18T23:31:14.829508Z",
     "shell.execute_reply": "2025-07-18T23:31:14.828368Z"
    },
    "papermill": {
     "duration": 296.076336,
     "end_time": "2025-07-18T23:31:14.841192",
     "exception": false,
     "start_time": "2025-07-18T23:26:18.764856",
     "status": "completed"
    },
    "tags": []
   },
   "outputs": [
    {
     "data": {
      "text/html": [
       "<style>#sk-container-id-1 {color: black;background-color: white;}#sk-container-id-1 pre{padding: 0;}#sk-container-id-1 div.sk-toggleable {background-color: white;}#sk-container-id-1 label.sk-toggleable__label {cursor: pointer;display: block;width: 100%;margin-bottom: 0;padding: 0.3em;box-sizing: border-box;text-align: center;}#sk-container-id-1 label.sk-toggleable__label-arrow:before {content: \"▸\";float: left;margin-right: 0.25em;color: #696969;}#sk-container-id-1 label.sk-toggleable__label-arrow:hover:before {color: black;}#sk-container-id-1 div.sk-estimator:hover label.sk-toggleable__label-arrow:before {color: black;}#sk-container-id-1 div.sk-toggleable__content {max-height: 0;max-width: 0;overflow: hidden;text-align: left;background-color: #f0f8ff;}#sk-container-id-1 div.sk-toggleable__content pre {margin: 0.2em;color: black;border-radius: 0.25em;background-color: #f0f8ff;}#sk-container-id-1 input.sk-toggleable__control:checked~div.sk-toggleable__content {max-height: 200px;max-width: 100%;overflow: auto;}#sk-container-id-1 input.sk-toggleable__control:checked~label.sk-toggleable__label-arrow:before {content: \"▾\";}#sk-container-id-1 div.sk-estimator input.sk-toggleable__control:checked~label.sk-toggleable__label {background-color: #d4ebff;}#sk-container-id-1 div.sk-label input.sk-toggleable__control:checked~label.sk-toggleable__label {background-color: #d4ebff;}#sk-container-id-1 input.sk-hidden--visually {border: 0;clip: rect(1px 1px 1px 1px);clip: rect(1px, 1px, 1px, 1px);height: 1px;margin: -1px;overflow: hidden;padding: 0;position: absolute;width: 1px;}#sk-container-id-1 div.sk-estimator {font-family: monospace;background-color: #f0f8ff;border: 1px dotted black;border-radius: 0.25em;box-sizing: border-box;margin-bottom: 0.5em;}#sk-container-id-1 div.sk-estimator:hover {background-color: #d4ebff;}#sk-container-id-1 div.sk-parallel-item::after {content: \"\";width: 100%;border-bottom: 1px solid gray;flex-grow: 1;}#sk-container-id-1 div.sk-label:hover label.sk-toggleable__label {background-color: #d4ebff;}#sk-container-id-1 div.sk-serial::before {content: \"\";position: absolute;border-left: 1px solid gray;box-sizing: border-box;top: 0;bottom: 0;left: 50%;z-index: 0;}#sk-container-id-1 div.sk-serial {display: flex;flex-direction: column;align-items: center;background-color: white;padding-right: 0.2em;padding-left: 0.2em;position: relative;}#sk-container-id-1 div.sk-item {position: relative;z-index: 1;}#sk-container-id-1 div.sk-parallel {display: flex;align-items: stretch;justify-content: center;background-color: white;position: relative;}#sk-container-id-1 div.sk-item::before, #sk-container-id-1 div.sk-parallel-item::before {content: \"\";position: absolute;border-left: 1px solid gray;box-sizing: border-box;top: 0;bottom: 0;left: 50%;z-index: -1;}#sk-container-id-1 div.sk-parallel-item {display: flex;flex-direction: column;z-index: 1;position: relative;background-color: white;}#sk-container-id-1 div.sk-parallel-item:first-child::after {align-self: flex-end;width: 50%;}#sk-container-id-1 div.sk-parallel-item:last-child::after {align-self: flex-start;width: 50%;}#sk-container-id-1 div.sk-parallel-item:only-child::after {width: 0;}#sk-container-id-1 div.sk-dashed-wrapped {border: 1px dashed gray;margin: 0 0.4em 0.5em 0.4em;box-sizing: border-box;padding-bottom: 0.4em;background-color: white;}#sk-container-id-1 div.sk-label label {font-family: monospace;font-weight: bold;display: inline-block;line-height: 1.2em;}#sk-container-id-1 div.sk-label-container {text-align: center;}#sk-container-id-1 div.sk-container {/* jupyter's `normalize.less` sets `[hidden] { display: none; }` but bootstrap.min.css set `[hidden] { display: none !important; }` so we also need the `!important` here to be able to override the default hidden behavior on the sphinx rendered scikit-learn.org. See: https://github.com/scikit-learn/scikit-learn/issues/21755 */display: inline-block !important;position: relative;}#sk-container-id-1 div.sk-text-repr-fallback {display: none;}</style><div id=\"sk-container-id-1\" class=\"sk-top-container\"><div class=\"sk-text-repr-fallback\"><pre>RandomForestClassifier(class_weight=&#x27;balanced&#x27;, n_estimators=200,\n",
       "                       random_state=42)</pre><b>In a Jupyter environment, please rerun this cell to show the HTML representation or trust the notebook. <br />On GitHub, the HTML representation is unable to render, please try loading this page with nbviewer.org.</b></div><div class=\"sk-container\" hidden><div class=\"sk-item\"><div class=\"sk-estimator sk-toggleable\"><input class=\"sk-toggleable__control sk-hidden--visually\" id=\"sk-estimator-id-1\" type=\"checkbox\" checked><label for=\"sk-estimator-id-1\" class=\"sk-toggleable__label sk-toggleable__label-arrow\">RandomForestClassifier</label><div class=\"sk-toggleable__content\"><pre>RandomForestClassifier(class_weight=&#x27;balanced&#x27;, n_estimators=200,\n",
       "                       random_state=42)</pre></div></div></div></div></div>"
      ],
      "text/plain": [
       "RandomForestClassifier(class_weight='balanced', n_estimators=200,\n",
       "                       random_state=42)"
      ]
     },
     "execution_count": 14,
     "metadata": {},
     "output_type": "execute_result"
    }
   ],
   "source": [
    "rf = RandomForestClassifier(n_estimators = 200 , random_state = 42 , class_weight = 'balanced')\n",
    "rf.fit(X_train , y_train)"
   ]
  },
  {
   "cell_type": "markdown",
   "id": "8bcde115",
   "metadata": {
    "execution": {
     "iopub.execute_input": "2025-07-18T12:10:52.117220Z",
     "iopub.status.busy": "2025-07-18T12:10:52.116903Z",
     "iopub.status.idle": "2025-07-18T12:10:57.706935Z",
     "shell.execute_reply": "2025-07-18T12:10:57.705506Z",
     "shell.execute_reply.started": "2025-07-18T12:10:52.117194Z"
    },
    "papermill": {
     "duration": 0.010464,
     "end_time": "2025-07-18T23:31:14.862356",
     "exception": false,
     "start_time": "2025-07-18T23:31:14.851892",
     "status": "completed"
    },
    "tags": []
   },
   "source": [
    "## Model Prediction"
   ]
  },
  {
   "cell_type": "code",
   "execution_count": 15,
   "id": "a167e12d",
   "metadata": {
    "execution": {
     "iopub.execute_input": "2025-07-18T23:31:14.883975Z",
     "iopub.status.busy": "2025-07-18T23:31:14.883560Z",
     "iopub.status.idle": "2025-07-18T23:31:27.872283Z",
     "shell.execute_reply": "2025-07-18T23:31:27.871033Z"
    },
    "papermill": {
     "duration": 13.00193,
     "end_time": "2025-07-18T23:31:27.874200",
     "exception": false,
     "start_time": "2025-07-18T23:31:14.872270",
     "status": "completed"
    },
    "tags": []
   },
   "outputs": [],
   "source": [
    "y_pred_rf = rf.predict(X_test)"
   ]
  },
  {
   "cell_type": "markdown",
   "id": "6cabe26c",
   "metadata": {
    "papermill": {
     "duration": 0.009377,
     "end_time": "2025-07-18T23:31:27.893787",
     "exception": false,
     "start_time": "2025-07-18T23:31:27.884410",
     "status": "completed"
    },
    "tags": []
   },
   "source": [
    "## 📊 Model Evaluation Metrics\n",
    "\n",
    "We evaluate the Random Forest model using multi-class metrics:\n",
    "- **Accuracy**: Overall percentage of correctly classified samples.\n",
    "- **Precision (Macro)**: Average precision across all classes.\n",
    "- **Recall (Macro)**: Average recall (sensitivity) across all classes.\n",
    "- **F1 Score (Macro)**: Harmonic mean of precision and recall across classes."
   ]
  },
  {
   "cell_type": "code",
   "execution_count": 16,
   "id": "7013bb42",
   "metadata": {
    "execution": {
     "iopub.execute_input": "2025-07-18T23:31:27.914474Z",
     "iopub.status.busy": "2025-07-18T23:31:27.914117Z",
     "iopub.status.idle": "2025-07-18T23:31:28.110689Z",
     "shell.execute_reply": "2025-07-18T23:31:28.109497Z"
    },
    "papermill": {
     "duration": 0.209055,
     "end_time": "2025-07-18T23:31:28.112390",
     "exception": false,
     "start_time": "2025-07-18T23:31:27.903335",
     "status": "completed"
    },
    "tags": []
   },
   "outputs": [
    {
     "name": "stdout",
     "output_type": "stream",
     "text": [
      "              precision    recall  f1-score   support\n",
      "\n",
      "           1       0.97      0.94      0.95     42368\n",
      "           2       0.95      0.97      0.96     56661\n",
      "           3       0.94      0.96      0.95      7151\n",
      "           4       0.91      0.85      0.88       549\n",
      "           5       0.95      0.79      0.86      1899\n",
      "           6       0.94      0.89      0.91      3473\n",
      "           7       0.97      0.95      0.96      4102\n",
      "\n",
      "    accuracy                           0.96    116203\n",
      "   macro avg       0.95      0.91      0.93    116203\n",
      "weighted avg       0.96      0.96      0.95    116203\n",
      "\n"
     ]
    }
   ],
   "source": [
    "print(metrics.classification_report(y_test , y_pred_rf))"
   ]
  },
  {
   "cell_type": "code",
   "execution_count": 17,
   "id": "6071c6e4",
   "metadata": {
    "execution": {
     "iopub.execute_input": "2025-07-18T23:31:28.134256Z",
     "iopub.status.busy": "2025-07-18T23:31:28.133307Z",
     "iopub.status.idle": "2025-07-18T23:31:28.279317Z",
     "shell.execute_reply": "2025-07-18T23:31:28.278097Z"
    },
    "papermill": {
     "duration": 0.158076,
     "end_time": "2025-07-18T23:31:28.280848",
     "exception": false,
     "start_time": "2025-07-18T23:31:28.122772",
     "status": "completed"
    },
    "tags": []
   },
   "outputs": [
    {
     "name": "stdout",
     "output_type": "stream",
     "text": [
      "{'Accuracy': 0.9550786124282505, 'Precision (Macro)': 0.9460982737347926, 'Sensitivity/Recall (Macro)': 0.9085028797561466, 'F1 Score (Macro)': 0.9259664847786178}\n"
     ]
    }
   ],
   "source": [
    "accuracy_rf = metrics.accuracy_score(y_test, y_pred_rf)\n",
    "precision_rf = metrics.precision_score(y_test, y_pred_rf, average='macro')\n",
    "recall_rf = metrics.recall_score(y_test, y_pred_rf, average='macro')\n",
    "F1_score_rf = metrics.f1_score(y_test, y_pred_rf, average='macro')\n",
    "\n",
    "print({\n",
    "    \"Accuracy\": accuracy_rf,\n",
    "    \"Precision (Macro)\": precision_rf,\n",
    "    \"Sensitivity/Recall (Macro)\": recall_rf,\n",
    "    \"F1 Score (Macro)\": F1_score_rf\n",
    "})"
   ]
  },
  {
   "cell_type": "code",
   "execution_count": 18,
   "id": "7d977136",
   "metadata": {
    "execution": {
     "iopub.execute_input": "2025-07-18T23:31:28.303534Z",
     "iopub.status.busy": "2025-07-18T23:31:28.303176Z",
     "iopub.status.idle": "2025-07-18T23:31:28.314051Z",
     "shell.execute_reply": "2025-07-18T23:31:28.313097Z"
    },
    "papermill": {
     "duration": 0.024544,
     "end_time": "2025-07-18T23:31:28.315476",
     "exception": false,
     "start_time": "2025-07-18T23:31:28.290932",
     "status": "completed"
    },
    "tags": []
   },
   "outputs": [
    {
     "data": {
      "text/html": [
       "<div>\n",
       "<style scoped>\n",
       "    .dataframe tbody tr th:only-of-type {\n",
       "        vertical-align: middle;\n",
       "    }\n",
       "\n",
       "    .dataframe tbody tr th {\n",
       "        vertical-align: top;\n",
       "    }\n",
       "\n",
       "    .dataframe thead th {\n",
       "        text-align: right;\n",
       "    }\n",
       "</style>\n",
       "<table border=\"1\" class=\"dataframe\">\n",
       "  <thead>\n",
       "    <tr style=\"text-align: right;\">\n",
       "      <th></th>\n",
       "      <th>Actual Cover Type</th>\n",
       "      <th>Predicted Cover Type</th>\n",
       "    </tr>\n",
       "  </thead>\n",
       "  <tbody>\n",
       "    <tr>\n",
       "      <th>0</th>\n",
       "      <td>1</td>\n",
       "      <td>1</td>\n",
       "    </tr>\n",
       "    <tr>\n",
       "      <th>1</th>\n",
       "      <td>3</td>\n",
       "      <td>3</td>\n",
       "    </tr>\n",
       "    <tr>\n",
       "      <th>2</th>\n",
       "      <td>2</td>\n",
       "      <td>2</td>\n",
       "    </tr>\n",
       "    <tr>\n",
       "      <th>3</th>\n",
       "      <td>3</td>\n",
       "      <td>3</td>\n",
       "    </tr>\n",
       "    <tr>\n",
       "      <th>4</th>\n",
       "      <td>1</td>\n",
       "      <td>1</td>\n",
       "    </tr>\n",
       "    <tr>\n",
       "      <th>5</th>\n",
       "      <td>6</td>\n",
       "      <td>3</td>\n",
       "    </tr>\n",
       "    <tr>\n",
       "      <th>6</th>\n",
       "      <td>1</td>\n",
       "      <td>1</td>\n",
       "    </tr>\n",
       "    <tr>\n",
       "      <th>7</th>\n",
       "      <td>1</td>\n",
       "      <td>1</td>\n",
       "    </tr>\n",
       "    <tr>\n",
       "      <th>8</th>\n",
       "      <td>2</td>\n",
       "      <td>2</td>\n",
       "    </tr>\n",
       "    <tr>\n",
       "      <th>9</th>\n",
       "      <td>2</td>\n",
       "      <td>2</td>\n",
       "    </tr>\n",
       "  </tbody>\n",
       "</table>\n",
       "</div>"
      ],
      "text/plain": [
       "   Actual Cover Type  Predicted Cover Type\n",
       "0                  1                     1\n",
       "1                  3                     3\n",
       "2                  2                     2\n",
       "3                  3                     3\n",
       "4                  1                     1\n",
       "5                  6                     3\n",
       "6                  1                     1\n",
       "7                  1                     1\n",
       "8                  2                     2\n",
       "9                  2                     2"
      ]
     },
     "execution_count": 18,
     "metadata": {},
     "output_type": "execute_result"
    }
   ],
   "source": [
    "results_df = pd.DataFrame({\n",
    "    'Actual Cover Type': y_test.reset_index(drop=True),\n",
    "    'Predicted Cover Type': y_pred_rf\n",
    "})\n",
    "\n",
    "results_df.head(10)"
   ]
  },
  {
   "cell_type": "code",
   "execution_count": 19,
   "id": "d5325dfd",
   "metadata": {
    "execution": {
     "iopub.execute_input": "2025-07-18T23:31:28.336501Z",
     "iopub.status.busy": "2025-07-18T23:31:28.336155Z",
     "iopub.status.idle": "2025-07-18T23:31:28.718605Z",
     "shell.execute_reply": "2025-07-18T23:31:28.717532Z"
    },
    "papermill": {
     "duration": 0.395125,
     "end_time": "2025-07-18T23:31:28.720736",
     "exception": false,
     "start_time": "2025-07-18T23:31:28.325611",
     "status": "completed"
    },
    "tags": []
   },
   "outputs": [
    {
     "data": {
      "image/png": "[encoded data removed]",
      "text/plain": [
       "<Figure size 640x480 with 2 Axes>"
      ]
     },
     "metadata": {},
     "output_type": "display_data"
    }
   ],
   "source": [
    "# Compute confusion matrix\n",
    "cm = confusion_matrix(y_test, y_pred_rf, labels=[1, 2, 3, 4, 5, 6, 7])\n",
    "\n",
    "# Display with labels\n",
    "disp = ConfusionMatrixDisplay(confusion_matrix=cm, display_labels=[1, 2, 3, 4, 5, 6, 7])\n",
    "disp.plot(cmap=plt.cm.Reds)\n",
    "plt.title(\"Confusion Matrix with Class Labels\")\n",
    "plt.show()"
   ]
  },
  {
   "cell_type": "markdown",
   "id": "083640b0",
   "metadata": {
    "papermill": {
     "duration": 0.013551,
     "end_time": "2025-07-18T23:31:28.746838",
     "exception": false,
     "start_time": "2025-07-18T23:31:28.733287",
     "status": "completed"
    },
    "tags": []
   },
   "source": [
    "## 🔧 Hyperparameter Tuning\n",
    "\n",
    "We use `GridSearchCV` to optimize hyperparameters for XGBoost:\n",
    "\n",
    "- **XGBoost**:\n",
    "  - `n_estimators`\n",
    "  - `max_depth`\n",
    "  - `learning_rate`\n",
    "\n",
    "Cross-validation (`cv=3`) is used to evaluate parameter combinations and select the best-performing configuration.\n"
   ]
  },
  {
   "cell_type": "markdown",
   "id": "ff754cd8",
   "metadata": {
    "papermill": {
     "duration": 0.012115,
     "end_time": "2025-07-18T23:31:28.771738",
     "exception": false,
     "start_time": "2025-07-18T23:31:28.759623",
     "status": "completed"
    },
    "tags": []
   },
   "source": [
    "## ⚠️ Adjusting Labels for XGBoost\n",
    "\n",
    "XGBoost requires class labels to start from 0.  \n",
    "Since our `Cover_Type` classes range from 1 to 7, we subtract 1 from the labels before training and add 1 back to predictions."
   ]
  },
  {
   "cell_type": "code",
   "execution_count": 20,
   "id": "f912d69a",
   "metadata": {
    "execution": {
     "iopub.execute_input": "2025-07-18T23:31:28.798603Z",
     "iopub.status.busy": "2025-07-18T23:31:28.798150Z",
     "iopub.status.idle": "2025-07-18T23:31:28.804632Z",
     "shell.execute_reply": "2025-07-18T23:31:28.803684Z"
    },
    "papermill": {
     "duration": 0.021731,
     "end_time": "2025-07-18T23:31:28.806400",
     "exception": false,
     "start_time": "2025-07-18T23:31:28.784669",
     "status": "completed"
    },
    "tags": []
   },
   "outputs": [],
   "source": [
    "# Shift class labels to start from 0\n",
    "y_train_adj = y_train - 1\n",
    "y_test_adj = y_test - 1"
   ]
  },
  {
   "cell_type": "code",
   "execution_count": 21,
   "id": "c101fb54",
   "metadata": {
    "execution": {
     "iopub.execute_input": "2025-07-18T23:31:28.834335Z",
     "iopub.status.busy": "2025-07-18T23:31:28.833313Z",
     "iopub.status.idle": "2025-07-19T00:22:25.720257Z",
     "shell.execute_reply": "2025-07-19T00:22:25.719311Z"
    },
    "papermill": {
     "duration": 3056.914583,
     "end_time": "2025-07-19T00:22:25.733770",
     "exception": false,
     "start_time": "2025-07-18T23:31:28.819187",
     "status": "completed"
    },
    "tags": []
   },
   "outputs": [
    {
     "name": "stdout",
     "output_type": "stream",
     "text": [
      "Best set of hyperparameters:  {'learning_rate': 1, 'max_depth': 6, 'n_estimators': 500}\n",
      "Best score:  0.9567779455204534\n"
     ]
    }
   ],
   "source": [
    "param_grid_xgb = {\n",
    "    'n_estimators' : [500],\n",
    "    'max_depth' : [4, 6],\n",
    "    'learning_rate': [0.05, 0.1, 0.3, 0.5, 1]\n",
    "}\n",
    "\n",
    "grid_search = GridSearchCV(XGBClassifier(random_state = 42), param_grid_xgb , cv=3, scoring='accuracy')\n",
    "\n",
    "# Fit the GridSearchCV object to the training data\n",
    "grid_search.fit(X_train, y_train_adj)\n",
    "\n",
    "# Print the best set of hyperparameters and the corresponding score\n",
    "print(\"Best set of hyperparameters: \", grid_search.best_params_)\n",
    "print(\"Best score: \", grid_search.best_score_)"
   ]
  },
  {
   "cell_type": "markdown",
   "id": "34d3d70b",
   "metadata": {
    "papermill": {
     "duration": 0.011073,
     "end_time": "2025-07-19T00:22:25.756233",
     "exception": false,
     "start_time": "2025-07-19T00:22:25.745160",
     "status": "completed"
    },
    "tags": []
   },
   "source": [
    "## Handling Class Imbalance in XGBoost\n",
    "\n",
    "To handle imbalanced classes, we assign higher weights to samples of minority classes.  \n",
    "XGBoost uses the `sample_weight` parameter during training to give these samples more importance.  \n",
    "\n",
    "**Steps:**\n",
    "1. Calculate class weights based on class frequencies.\n",
    "2. Create an array of weights for each training sample.\n",
    "3. Train XGBoost using `sample_weight`."
   ]
  },
  {
   "cell_type": "code",
   "execution_count": 22,
   "id": "cfa29d4e",
   "metadata": {
    "execution": {
     "iopub.execute_input": "2025-07-19T00:22:25.779511Z",
     "iopub.status.busy": "2025-07-19T00:22:25.779168Z",
     "iopub.status.idle": "2025-07-19T00:22:25.854626Z",
     "shell.execute_reply": "2025-07-19T00:22:25.853757Z"
    },
    "papermill": {
     "duration": 0.088834,
     "end_time": "2025-07-19T00:22:25.855983",
     "exception": false,
     "start_time": "2025-07-19T00:22:25.767149",
     "status": "completed"
    },
    "tags": []
   },
   "outputs": [
    {
     "data": {
      "text/plain": [
       "array([ 0.39181272,  0.29298132,  2.32147976, 30.20986611,  8.74391437,\n",
       "        4.77913385,  4.04688479])"
      ]
     },
     "execution_count": 22,
     "metadata": {},
     "output_type": "execute_result"
    }
   ],
   "source": [
    "# Compute class weights\n",
    "classes = np.unique(y_train_adj)\n",
    "weights = compute_class_weight('balanced' , classes = classes , y = y_train_adj)\n",
    "weights"
   ]
  },
  {
   "cell_type": "code",
   "execution_count": 23,
   "id": "0c3068f1",
   "metadata": {
    "execution": {
     "iopub.execute_input": "2025-07-19T00:22:25.880240Z",
     "iopub.status.busy": "2025-07-19T00:22:25.879920Z",
     "iopub.status.idle": "2025-07-19T00:22:25.885622Z",
     "shell.execute_reply": "2025-07-19T00:22:25.884794Z"
    },
    "papermill": {
     "duration": 0.019266,
     "end_time": "2025-07-19T00:22:25.887017",
     "exception": false,
     "start_time": "2025-07-19T00:22:25.867751",
     "status": "completed"
    },
    "tags": []
   },
   "outputs": [
    {
     "data": {
      "text/plain": [
       "{0: 0.39181272253992233,\n",
       " 1: 0.29298131712974634,\n",
       " 2: 2.3214797648598298,\n",
       " 3: 30.209866112049916,\n",
       " 4: 8.743914368486399,\n",
       " 5: 4.779133850171708,\n",
       " 6: 4.046884794873581}"
      ]
     },
     "execution_count": 23,
     "metadata": {},
     "output_type": "execute_result"
    }
   ],
   "source": [
    "weight_dict = dict(zip(classes,weights))\n",
    "weight_dict"
   ]
  },
  {
   "cell_type": "code",
   "execution_count": 24,
   "id": "1be4bb27",
   "metadata": {
    "execution": {
     "iopub.execute_input": "2025-07-19T00:22:25.911196Z",
     "iopub.status.busy": "2025-07-19T00:22:25.910866Z",
     "iopub.status.idle": "2025-07-19T00:22:26.019969Z",
     "shell.execute_reply": "2025-07-19T00:22:26.019053Z"
    },
    "papermill": {
     "duration": 0.123023,
     "end_time": "2025-07-19T00:22:26.021618",
     "exception": false,
     "start_time": "2025-07-19T00:22:25.898595",
     "status": "completed"
    },
    "tags": []
   },
   "outputs": [],
   "source": [
    "# Assign sample weights\n",
    "sample_weights = np.array([weight_dict[label] for label in y_train_adj])"
   ]
  },
  {
   "cell_type": "markdown",
   "id": "652449a5",
   "metadata": {
    "execution": {
     "iopub.execute_input": "2025-07-18T12:41:49.238330Z",
     "iopub.status.busy": "2025-07-18T12:41:49.237974Z",
     "iopub.status.idle": "2025-07-18T12:41:49.244659Z",
     "shell.execute_reply": "2025-07-18T12:41:49.243223Z",
     "shell.execute_reply.started": "2025-07-18T12:41:49.238304Z"
    },
    "papermill": {
     "duration": 0.011228,
     "end_time": "2025-07-19T00:22:26.044315",
     "exception": false,
     "start_time": "2025-07-19T00:22:26.033087",
     "status": "completed"
    },
    "tags": []
   },
   "source": [
    "## Model Training XGBoost"
   ]
  },
  {
   "cell_type": "code",
   "execution_count": 25,
   "id": "05a4a5c2",
   "metadata": {
    "execution": {
     "iopub.execute_input": "2025-07-19T00:22:26.068940Z",
     "iopub.status.busy": "2025-07-19T00:22:26.068625Z",
     "iopub.status.idle": "2025-07-19T00:25:00.860870Z",
     "shell.execute_reply": "2025-07-19T00:25:00.859984Z"
    },
    "papermill": {
     "duration": 154.817904,
     "end_time": "2025-07-19T00:25:00.873627",
     "exception": false,
     "start_time": "2025-07-19T00:22:26.055723",
     "status": "completed"
    },
    "tags": []
   },
   "outputs": [
    {
     "data": {
      "text/html": [
       "<style>#sk-container-id-2 {color: black;background-color: white;}#sk-container-id-2 pre{padding: 0;}#sk-container-id-2 div.sk-toggleable {background-color: white;}#sk-container-id-2 label.sk-toggleable__label {cursor: pointer;display: block;width: 100%;margin-bottom: 0;padding: 0.3em;box-sizing: border-box;text-align: center;}#sk-container-id-2 label.sk-toggleable__label-arrow:before {content: \"▸\";float: left;margin-right: 0.25em;color: #696969;}#sk-container-id-2 label.sk-toggleable__label-arrow:hover:before {color: black;}#sk-container-id-2 div.sk-estimator:hover label.sk-toggleable__label-arrow:before {color: black;}#sk-container-id-2 div.sk-toggleable__content {max-height: 0;max-width: 0;overflow: hidden;text-align: left;background-color: #f0f8ff;}#sk-container-id-2 div.sk-toggleable__content pre {margin: 0.2em;color: black;border-radius: 0.25em;background-color: #f0f8ff;}#sk-container-id-2 input.sk-toggleable__control:checked~div.sk-toggleable__content {max-height: 200px;max-width: 100%;overflow: auto;}#sk-container-id-2 input.sk-toggleable__control:checked~label.sk-toggleable__label-arrow:before {content: \"▾\";}#sk-container-id-2 div.sk-estimator input.sk-toggleable__control:checked~label.sk-toggleable__label {background-color: #d4ebff;}#sk-container-id-2 div.sk-label input.sk-toggleable__control:checked~label.sk-toggleable__label {background-color: #d4ebff;}#sk-container-id-2 input.sk-hidden--visually {border: 0;clip: rect(1px 1px 1px 1px);clip: rect(1px, 1px, 1px, 1px);height: 1px;margin: -1px;overflow: hidden;padding: 0;position: absolute;width: 1px;}#sk-container-id-2 div.sk-estimator {font-family: monospace;background-color: #f0f8ff;border: 1px dotted black;border-radius: 0.25em;box-sizing: border-box;margin-bottom: 0.5em;}#sk-container-id-2 div.sk-estimator:hover {background-color: #d4ebff;}#sk-container-id-2 div.sk-parallel-item::after {content: \"\";width: 100%;border-bottom: 1px solid gray;flex-grow: 1;}#sk-container-id-2 div.sk-label:hover label.sk-toggleable__label {background-color: #d4ebff;}#sk-container-id-2 div.sk-serial::before {content: \"\";position: absolute;border-left: 1px solid gray;box-sizing: border-box;top: 0;bottom: 0;left: 50%;z-index: 0;}#sk-container-id-2 div.sk-serial {display: flex;flex-direction: column;align-items: center;background-color: white;padding-right: 0.2em;padding-left: 0.2em;position: relative;}#sk-container-id-2 div.sk-item {position: relative;z-index: 1;}#sk-container-id-2 div.sk-parallel {display: flex;align-items: stretch;justify-content: center;background-color: white;position: relative;}#sk-container-id-2 div.sk-item::before, #sk-container-id-2 div.sk-parallel-item::before {content: \"\";position: absolute;border-left: 1px solid gray;box-sizing: border-box;top: 0;bottom: 0;left: 50%;z-index: -1;}#sk-container-id-2 div.sk-parallel-item {display: flex;flex-direction: column;z-index: 1;position: relative;background-color: white;}#sk-container-id-2 div.sk-parallel-item:first-child::after {align-self: flex-end;width: 50%;}#sk-container-id-2 div.sk-parallel-item:last-child::after {align-self: flex-start;width: 50%;}#sk-container-id-2 div.sk-parallel-item:only-child::after {width: 0;}#sk-container-id-2 div.sk-dashed-wrapped {border: 1px dashed gray;margin: 0 0.4em 0.5em 0.4em;box-sizing: border-box;padding-bottom: 0.4em;background-color: white;}#sk-container-id-2 div.sk-label label {font-family: monospace;font-weight: bold;display: inline-block;line-height: 1.2em;}#sk-container-id-2 div.sk-label-container {text-align: center;}#sk-container-id-2 div.sk-container {/* jupyter's `normalize.less` sets `[hidden] { display: none; }` but bootstrap.min.css set `[hidden] { display: none !important; }` so we also need the `!important` here to be able to override the default hidden behavior on the sphinx rendered scikit-learn.org. See: https://github.com/scikit-learn/scikit-learn/issues/21755 */display: inline-block !important;position: relative;}#sk-container-id-2 div.sk-text-repr-fallback {display: none;}</style><div id=\"sk-container-id-2\" class=\"sk-top-container\"><div class=\"sk-text-repr-fallback\"><pre>XGBClassifier(base_score=None, booster=None, callbacks=None,\n",
       "              colsample_bylevel=None, colsample_bynode=None,\n",
       "              colsample_bytree=None, device=None, early_stopping_rounds=None,\n",
       "              enable_categorical=False, eval_metric=None, feature_types=None,\n",
       "              gamma=None, grow_policy=None, importance_type=None,\n",
       "              interaction_constraints=None, learning_rate=1, max_bin=None,\n",
       "              max_cat_threshold=None, max_cat_to_onehot=None,\n",
       "              max_delta_step=None, max_depth=6, max_leaves=None,\n",
       "              min_child_weight=None, missing=nan, monotone_constraints=None,\n",
       "              multi_strategy=None, n_estimators=500, n_jobs=None,\n",
       "              num_parallel_tree=None, objective=&#x27;multi:softprob&#x27;, ...)</pre><b>In a Jupyter environment, please rerun this cell to show the HTML representation or trust the notebook. <br />On GitHub, the HTML representation is unable to render, please try loading this page with nbviewer.org.</b></div><div class=\"sk-container\" hidden><div class=\"sk-item\"><div class=\"sk-estimator sk-toggleable\"><input class=\"sk-toggleable__control sk-hidden--visually\" id=\"sk-estimator-id-2\" type=\"checkbox\" checked><label for=\"sk-estimator-id-2\" class=\"sk-toggleable__label sk-toggleable__label-arrow\">XGBClassifier</label><div class=\"sk-toggleable__content\"><pre>XGBClassifier(base_score=None, booster=None, callbacks=None,\n",
       "              colsample_bylevel=None, colsample_bynode=None,\n",
       "              colsample_bytree=None, device=None, early_stopping_rounds=None,\n",
       "              enable_categorical=False, eval_metric=None, feature_types=None,\n",
       "              gamma=None, grow_policy=None, importance_type=None,\n",
       "              interaction_constraints=None, learning_rate=1, max_bin=None,\n",
       "              max_cat_threshold=None, max_cat_to_onehot=None,\n",
       "              max_delta_step=None, max_depth=6, max_leaves=None,\n",
       "              min_child_weight=None, missing=nan, monotone_constraints=None,\n",
       "              multi_strategy=None, n_estimators=500, n_jobs=None,\n",
       "              num_parallel_tree=None, objective=&#x27;multi:softprob&#x27;, ...)</pre></div></div></div></div></div>"
      ],
      "text/plain": [
       "XGBClassifier(base_score=None, booster=None, callbacks=None,\n",
       "              colsample_bylevel=None, colsample_bynode=None,\n",
       "              colsample_bytree=None, device=None, early_stopping_rounds=None,\n",
       "              enable_categorical=False, eval_metric=None, feature_types=None,\n",
       "              gamma=None, grow_policy=None, importance_type=None,\n",
       "              interaction_constraints=None, learning_rate=1, max_bin=None,\n",
       "              max_cat_threshold=None, max_cat_to_onehot=None,\n",
       "              max_delta_step=None, max_depth=6, max_leaves=None,\n",
       "              min_child_weight=None, missing=nan, monotone_constraints=None,\n",
       "              multi_strategy=None, n_estimators=500, n_jobs=None,\n",
       "              num_parallel_tree=None, objective='multi:softprob', ...)"
      ]
     },
     "execution_count": 25,
     "metadata": {},
     "output_type": "execute_result"
    }
   ],
   "source": [
    "xgb = XGBClassifier(n_estimators=500, max_depth=6, learning_rate=1 , random_state = 42)\n",
    "xgb.fit(X_train, y_train_adj , sample_weight = sample_weights)"
   ]
  },
  {
   "cell_type": "code",
   "execution_count": 26,
   "id": "97cec8de",
   "metadata": {
    "execution": {
     "iopub.execute_input": "2025-07-19T00:25:00.897960Z",
     "iopub.status.busy": "2025-07-19T00:25:00.897563Z",
     "iopub.status.idle": "2025-07-19T00:25:05.270831Z",
     "shell.execute_reply": "2025-07-19T00:25:05.270000Z"
    },
    "papermill": {
     "duration": 4.387548,
     "end_time": "2025-07-19T00:25:05.272730",
     "exception": false,
     "start_time": "2025-07-19T00:25:00.885182",
     "status": "completed"
    },
    "tags": []
   },
   "outputs": [],
   "source": [
    "y_pred_xgb = xgb.predict(X_test) + 1"
   ]
  },
  {
   "cell_type": "code",
   "execution_count": 27,
   "id": "c4f43a15",
   "metadata": {
    "execution": {
     "iopub.execute_input": "2025-07-19T00:25:05.297760Z",
     "iopub.status.busy": "2025-07-19T00:25:05.297348Z",
     "iopub.status.idle": "2025-07-19T00:25:05.484773Z",
     "shell.execute_reply": "2025-07-19T00:25:05.483738Z"
    },
    "papermill": {
     "duration": 0.201602,
     "end_time": "2025-07-19T00:25:05.486188",
     "exception": false,
     "start_time": "2025-07-19T00:25:05.284586",
     "status": "completed"
    },
    "tags": []
   },
   "outputs": [
    {
     "name": "stdout",
     "output_type": "stream",
     "text": [
      "              precision    recall  f1-score   support\n",
      "\n",
      "           1       0.96      0.96      0.96     42368\n",
      "           2       0.97      0.96      0.97     56661\n",
      "           3       0.96      0.97      0.96      7151\n",
      "           4       0.89      0.89      0.89       549\n",
      "           5       0.88      0.94      0.91      1899\n",
      "           6       0.93      0.95      0.94      3473\n",
      "           7       0.96      0.98      0.97      4102\n",
      "\n",
      "    accuracy                           0.96    116203\n",
      "   macro avg       0.94      0.95      0.94    116203\n",
      "weighted avg       0.96      0.96      0.96    116203\n",
      "\n"
     ]
    }
   ],
   "source": [
    "print(classification_report(y_test , y_pred_xgb))"
   ]
  },
  {
   "cell_type": "code",
   "execution_count": 28,
   "id": "09e2750e",
   "metadata": {
    "execution": {
     "iopub.execute_input": "2025-07-19T00:25:05.511864Z",
     "iopub.status.busy": "2025-07-19T00:25:05.511543Z",
     "iopub.status.idle": "2025-07-19T00:25:05.653483Z",
     "shell.execute_reply": "2025-07-19T00:25:05.652355Z"
    },
    "papermill": {
     "duration": 0.156104,
     "end_time": "2025-07-19T00:25:05.654885",
     "exception": false,
     "start_time": "2025-07-19T00:25:05.498781",
     "status": "completed"
    },
    "tags": []
   },
   "outputs": [
    {
     "name": "stdout",
     "output_type": "stream",
     "text": [
      "{'Accuracy': 0.9613607221844531, 'Precision (Macro)': 0.9362601287698565, 'Sensitivity/Recall (Macro)': 0.9483151588979615, 'F1 Score (Macro)': 0.9421613195219776}\n"
     ]
    }
   ],
   "source": [
    "accuracy_xgb = metrics.accuracy_score(y_test, y_pred_xgb)\n",
    "precision_xgb = metrics.precision_score(y_test, y_pred_xgb, average='macro')\n",
    "recall_xgb = metrics.recall_score(y_test, y_pred_xgb, average='macro')\n",
    "F1_score_xgb = metrics.f1_score(y_test, y_pred_xgb, average='macro')\n",
    "\n",
    "print({\n",
    "    \"Accuracy\": accuracy_xgb,\n",
    "    \"Precision (Macro)\": precision_xgb,\n",
    "    \"Sensitivity/Recall (Macro)\": recall_xgb,\n",
    "    \"F1 Score (Macro)\": F1_score_xgb\n",
    "})"
   ]
  },
  {
   "cell_type": "code",
   "execution_count": 29,
   "id": "9bf75170",
   "metadata": {
    "execution": {
     "iopub.execute_input": "2025-07-19T00:25:05.680717Z",
     "iopub.status.busy": "2025-07-19T00:25:05.680371Z",
     "iopub.status.idle": "2025-07-19T00:25:06.045961Z",
     "shell.execute_reply": "2025-07-19T00:25:06.044984Z"
    },
    "papermill": {
     "duration": 0.379986,
     "end_time": "2025-07-19T00:25:06.047474",
     "exception": false,
     "start_time": "2025-07-19T00:25:05.667488",
     "status": "completed"
    },
    "tags": []
   },
   "outputs": [
    {
     "data": {
      "image/png": "[encoded data removed]",
      "text/plain": [
       "<Figure size 640x480 with 2 Axes>"
      ]
     },
     "metadata": {},
     "output_type": "display_data"
    }
   ],
   "source": [
    "# Compute confusion matrix\n",
    "cm = confusion_matrix(y_test, y_pred_xgb, labels=[1, 2, 3, 4, 5, 6, 7])\n",
    "\n",
    "# Display with labels\n",
    "disp = ConfusionMatrixDisplay(confusion_matrix=cm, display_labels=[1, 2, 3, 4, 5, 6, 7])\n",
    "disp.plot(cmap=plt.cm.Reds)\n",
    "plt.title(\"Confusion Matrix with Class Labels\")\n",
    "plt.show()"
   ]
  },
  {
   "cell_type": "markdown",
   "id": "c4a51d3e",
   "metadata": {
    "papermill": {
     "duration": 0.014969,
     "end_time": "2025-07-19T00:25:06.078635",
     "exception": false,
     "start_time": "2025-07-19T00:25:06.063666",
     "status": "completed"
    },
    "tags": []
   },
   "source": [
    "## Feature Importance Visualization"
   ]
  },
  {
   "cell_type": "code",
   "execution_count": 30,
   "id": "baf98049",
   "metadata": {
    "execution": {
     "iopub.execute_input": "2025-07-19T00:25:06.108257Z",
     "iopub.status.busy": "2025-07-19T00:25:06.107823Z",
     "iopub.status.idle": "2025-07-19T00:25:06.505055Z",
     "shell.execute_reply": "2025-07-19T00:25:06.504138Z"
    },
    "papermill": {
     "duration": 0.414316,
     "end_time": "2025-07-19T00:25:06.507192",
     "exception": false,
     "start_time": "2025-07-19T00:25:06.092876",
     "status": "completed"
    },
    "tags": []
   },
   "outputs": [],
   "source": [
    "# Get feature importances\n",
    "rf_importances = pd.Series(rf.feature_importances_, index=X_train.columns).sort_values(ascending=False)\n",
    "# Get feature importances\n",
    "xgb_importances = pd.Series(xgb.feature_importances_, index=X_train.columns).sort_values(ascending=False)"
   ]
  },
  {
   "cell_type": "code",
   "execution_count": 31,
   "id": "cae40941",
   "metadata": {
    "execution": {
     "iopub.execute_input": "2025-07-19T00:25:06.537890Z",
     "iopub.status.busy": "2025-07-19T00:25:06.537543Z",
     "iopub.status.idle": "2025-07-19T00:25:07.176021Z",
     "shell.execute_reply": "2025-07-19T00:25:07.174996Z"
    },
    "papermill": {
     "duration": 0.65662,
     "end_time": "2025-07-19T00:25:07.178210",
     "exception": false,
     "start_time": "2025-07-19T00:25:06.521590",
     "status": "completed"
    },
    "tags": []
   },
   "outputs": [
    {
     "data": {
      "image/png": "[encoded data removed]",
      "text/plain": [
       "<Figure size 1600x600 with 2 Axes>"
      ]
     },
     "metadata": {},
     "output_type": "display_data"
    }
   ],
   "source": [
    "fig , axes = plt.subplots(1,2, figsize = (16,6))\n",
    "\n",
    "rf_importances.head(15).sort_values().plot(kind = 'barh' , color = 'purple' , ax = axes[0])\n",
    "\n",
    "axes[0].set_title(\"Top 15 Feature Importances - Random Forest\")\n",
    "axes[0].set_xlabel(\"Importance Score\")\n",
    "\n",
    "xgb_importances.head(15).sort_values().plot(kind = 'barh' , color = 'orange' , ax = axes[1])\n",
    "axes[1].set_title(\"Top 15 Feature Importances - XGBoost\")\n",
    "axes[1].set_xlabel(\"Importance Score\")\n",
    "\n",
    "plt.tight_layout()\n",
    "plt.show()"
   ]
  },
  {
   "cell_type": "code",
   "execution_count": 32,
   "id": "eeba44d2",
   "metadata": {
    "execution": {
     "iopub.execute_input": "2025-07-19T00:25:07.214185Z",
     "iopub.status.busy": "2025-07-19T00:25:07.213724Z",
     "iopub.status.idle": "2025-07-19T00:25:07.226163Z",
     "shell.execute_reply": "2025-07-19T00:25:07.224794Z"
    },
    "papermill": {
     "duration": 0.032557,
     "end_time": "2025-07-19T00:25:07.227820",
     "exception": false,
     "start_time": "2025-07-19T00:25:07.195263",
     "status": "completed"
    },
    "tags": []
   },
   "outputs": [
    {
     "data": {
      "text/html": [
       "<div>\n",
       "<style scoped>\n",
       "    .dataframe tbody tr th:only-of-type {\n",
       "        vertical-align: middle;\n",
       "    }\n",
       "\n",
       "    .dataframe tbody tr th {\n",
       "        vertical-align: top;\n",
       "    }\n",
       "\n",
       "    .dataframe thead th {\n",
       "        text-align: right;\n",
       "    }\n",
       "</style>\n",
       "<table border=\"1\" class=\"dataframe\">\n",
       "  <thead>\n",
       "    <tr style=\"text-align: right;\">\n",
       "      <th></th>\n",
       "      <th>Metric</th>\n",
       "      <th>Random Forest</th>\n",
       "      <th>XGBoost</th>\n",
       "    </tr>\n",
       "  </thead>\n",
       "  <tbody>\n",
       "    <tr>\n",
       "      <th>0</th>\n",
       "      <td>Accuracy</td>\n",
       "      <td>0.955079</td>\n",
       "      <td>0.961361</td>\n",
       "    </tr>\n",
       "    <tr>\n",
       "      <th>1</th>\n",
       "      <td>Precision</td>\n",
       "      <td>0.946098</td>\n",
       "      <td>0.936260</td>\n",
       "    </tr>\n",
       "    <tr>\n",
       "      <th>2</th>\n",
       "      <td>Recall</td>\n",
       "      <td>0.908503</td>\n",
       "      <td>0.948315</td>\n",
       "    </tr>\n",
       "    <tr>\n",
       "      <th>3</th>\n",
       "      <td>F1_Score</td>\n",
       "      <td>0.925966</td>\n",
       "      <td>0.942161</td>\n",
       "    </tr>\n",
       "  </tbody>\n",
       "</table>\n",
       "</div>"
      ],
      "text/plain": [
       "      Metric  Random Forest   XGBoost\n",
       "0   Accuracy       0.955079  0.961361\n",
       "1  Precision       0.946098  0.936260\n",
       "2     Recall       0.908503  0.948315\n",
       "3   F1_Score       0.925966  0.942161"
      ]
     },
     "execution_count": 32,
     "metadata": {},
     "output_type": "execute_result"
    }
   ],
   "source": [
    "metrics_comparison = pd.DataFrame({\n",
    "    \"Metric\": [\"Accuracy\", \"Precision\", \"Recall\", \"F1_Score\"],\n",
    "    \"Random Forest\": [\n",
    "        accuracy_rf,precision_rf,recall_rf,F1_score_rf\n",
    "    ],\n",
    "    \"XGBoost\": [\n",
    "        accuracy_xgb,precision_xgb,recall_xgb,F1_score_xgb\n",
    "\n",
    "    ]\n",
    "})\n",
    "metrics_comparison"
   ]
  },
  {
   "cell_type": "code",
   "execution_count": 33,
   "id": "15e4a3bb",
   "metadata": {
    "execution": {
     "iopub.execute_input": "2025-07-19T00:25:07.262673Z",
     "iopub.status.busy": "2025-07-19T00:25:07.261850Z",
     "iopub.status.idle": "2025-07-19T00:25:07.474726Z",
     "shell.execute_reply": "2025-07-19T00:25:07.473683Z"
    },
    "papermill": {
     "duration": 0.232042,
     "end_time": "2025-07-19T00:25:07.476526",
     "exception": false,
     "start_time": "2025-07-19T00:25:07.244484",
     "status": "completed"
    },
    "tags": []
   },
   "outputs": [
    {
     "data": {
      "image/png": "[encoded data removed]",
      "text/plain": [
       "<Figure size 800x500 with 1 Axes>"
      ]
     },
     "metadata": {},
     "output_type": "display_data"
    }
   ],
   "source": [
    "metrics_comparison.set_index(\"Metric\").plot(\n",
    "    kind='bar', figsize=(8, 5), color=[\"red\", \"blue\"]\n",
    ")\n",
    "plt.title(\"Random Forest vs XGBoost - Metrics Comparison\")\n",
    "plt.ylabel(\"Score\")\n",
    "plt.ylim(0, 1) \n",
    "plt.xticks(rotation=0)\n",
    "plt.grid(axis='y')\n",
    "plt.show()"
   ]
  }
 ],
 "metadata": {
  "kaggle": {
   "accelerator": "none",
   "dataSources": [
    {
     "datasetId": 4215545,
     "sourceId": 7271876,
     "sourceType": "datasetVersion"
    }
   ],
   "dockerImageVersionId": 31089,
   "isGpuEnabled": false,
   "isInternetEnabled": true,
   "language": "python",
   "sourceType": "notebook"
  },
  "kernelspec": {
   "display_name": "Python 3",
   "language": "python",
   "name": "python3"
  },
  "language_info": {
   "codemirror_mode": {
    "name": "ipython",
    "version": 3
   },
   "file_extension": ".py",
   "mimetype": "text/x-python",
   "name": "python",
   "nbconvert_exporter": "python",
   "pygments_lexer": "ipython3",
   "version": "3.11.13"
  },
  "papermill": {
   "default_parameters": {},
   "duration": 3555.257748,
   "end_time": "2025-07-19T00:25:09.026267",
   "environment_variables": {},
   "exception": null,
   "input_path": "__notebook__.ipynb",
   "output_path": "__notebook__.ipynb",
   "parameters": {},
   "start_time": "2025-07-18T23:25:53.768519",
   "version": "2.6.0"
  }
 },
 "nbformat": 4,
 "nbformat_minor": 5
}
